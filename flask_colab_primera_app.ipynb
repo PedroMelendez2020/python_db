{
  "nbformat": 4,
  "nbformat_minor": 0,
  "metadata": {
    "colab": {
      "name": "flask_colab_primera_app.ipynb",
      "provenance": [],
      "collapsed_sections": [],
      "include_colab_link": true
    },
    "kernelspec": {
      "name": "python3",
      "display_name": "Python 3"
    }
  },
  "cells": [
    {
      "cell_type": "markdown",
      "metadata": {
        "id": "view-in-github",
        "colab_type": "text"
      },
      "source": [
        "<a href=\"https://colab.research.google.com/github/ssanchezgoe/flask_vscode_tutorial/blob/master/flask_colab_primera_app.ipynb\" target=\"_parent\"><img src=\"https://colab.research.google.com/assets/colab-badge.svg\" alt=\"Open In Colab\"/></a>"
      ]
    },
    {
      "cell_type": "markdown",
      "metadata": {
        "id": "8evHPHQ_7_Zr",
        "colab_type": "text"
      },
      "source": [
        "\n",
        "<center>\n",
        "    <img src=\"https://github.com/ssanchezgoe/flask_vscode_tutorial/blob/master/imagenes/flask_colab_logo.png?raw=true\" alt=\"centered image\" />\n",
        "</center>"
      ]
    },
    {
      "cell_type": "markdown",
      "metadata": {
        "id": "uqZ7QpcwMP8f",
        "colab_type": "text"
      },
      "source": [
        "Google Colab nos proporciona una máquina virtual (Virtual Machine- VM), por lo que no tenemos acceso a un localhost, como si lo tenemos en un pc propio cuando ejecutamos un servidor web local. Lo que se puede hacer en este caso is acudir a un URL público usando la librería de python **flask-ngrok**. \n",
        "\n",
        "\n",
        "\n",
        "---\n",
        "**ngrok:** es una herramiente que permite el acceso de cualquier persona en internet al contenido almacenado en un servidor local al generar un URL dinámicamente. Esta herramienta resulta útil en el caso que, por ejemplo, trabajemos con desarrolladores de forma remota y se pretende mostrar los \n",
        "\n",
        "Ngrok es una herramienta que permite acceder nuestro servidor local a cualquier persona en internet con la que compartamos una url generada dinamicamente , esto es muy útil por ejemplo cuando necesitamos mostrar avances constantemente en sitios que se encuentran en etapa de desarrollo o cuando trabajamos con un equipo de desarrolladores de forma remota .\n",
        "\n",
        "\n",
        "NGROK nos permite realizar esto sin hacer ninguna configuración extra en el router o firewall simplemente basta con bajar la pequeña aplicación\n",
        "\n",
        "---\n",
        "\n",
        "\n",
        "Instalemos dicha librería primero:"
      ]
    },
    {
      "cell_type": "code",
      "metadata": {
        "id": "msDsihhVXrYX",
        "colab_type": "code",
        "colab": {
          "base_uri": "https://localhost:8080/",
          "height": 238
        },
        "outputId": "f21b6c00-a2d3-4a1b-f65b-132088fe4e86"
      },
      "source": [
        "!pip install flask-ngrok"
      ],
      "execution_count": null,
      "outputs": [
        {
          "output_type": "stream",
          "text": [
            "Requirement already satisfied: flask-ngrok in /usr/local/lib/python3.6/dist-packages (0.0.25)\n",
            "Requirement already satisfied: Flask>=0.8 in /usr/local/lib/python3.6/dist-packages (from flask-ngrok) (1.1.2)\n",
            "Requirement already satisfied: requests in /usr/local/lib/python3.6/dist-packages (from flask-ngrok) (2.23.0)\n",
            "Requirement already satisfied: click>=5.1 in /usr/local/lib/python3.6/dist-packages (from Flask>=0.8->flask-ngrok) (7.1.2)\n",
            "Requirement already satisfied: Werkzeug>=0.15 in /usr/local/lib/python3.6/dist-packages (from Flask>=0.8->flask-ngrok) (1.0.1)\n",
            "Requirement already satisfied: Jinja2>=2.10.1 in /usr/local/lib/python3.6/dist-packages (from Flask>=0.8->flask-ngrok) (2.11.2)\n",
            "Requirement already satisfied: itsdangerous>=0.24 in /usr/local/lib/python3.6/dist-packages (from Flask>=0.8->flask-ngrok) (1.1.0)\n",
            "Requirement already satisfied: idna<3,>=2.5 in /usr/local/lib/python3.6/dist-packages (from requests->flask-ngrok) (2.10)\n",
            "Requirement already satisfied: urllib3!=1.25.0,!=1.25.1,<1.26,>=1.21.1 in /usr/local/lib/python3.6/dist-packages (from requests->flask-ngrok) (1.24.3)\n",
            "Requirement already satisfied: chardet<4,>=3.0.2 in /usr/local/lib/python3.6/dist-packages (from requests->flask-ngrok) (3.0.4)\n",
            "Requirement already satisfied: certifi>=2017.4.17 in /usr/local/lib/python3.6/dist-packages (from requests->flask-ngrok) (2020.6.20)\n",
            "Requirement already satisfied: MarkupSafe>=0.23 in /usr/local/lib/python3.6/dist-packages (from Jinja2>=2.10.1->Flask>=0.8->flask-ngrok) (1.1.1)\n"
          ],
          "name": "stdout"
        }
      ]
    },
    {
      "cell_type": "markdown",
      "metadata": {
        "id": "fNmnI79EAQj2",
        "colab_type": "text"
      },
      "source": [
        "# **Primer programa en `flask`**:"
      ]
    },
    {
      "cell_type": "code",
      "metadata": {
        "id": "K1UI7Pz-Xvfo",
        "colab_type": "code",
        "colab": {
          "base_uri": "https://localhost:8080/",
          "height": 151
        },
        "outputId": "3a417b1f-4db2-4bce-b87f-90f4d4ff6970"
      },
      "source": [
        "from flask_ngrok import run_with_ngrok\n",
        "from flask import Flask\n",
        "\n",
        "app = Flask(__name__)\n",
        "\n",
        "run_with_ngrok(app)   #Ejecución de ngrok una vez la app está en marcha\n",
        "\n",
        "# Rutas y vistas.\n",
        "@app.route(\"/\")\n",
        "def home():\n",
        "    return \"<h1>Ejecución de Flask on Google Colab!</h1>\"\n",
        "  \n",
        "if __name__ == '__main__':\n",
        " app.run()"
      ],
      "execution_count": null,
      "outputs": [
        {
          "output_type": "stream",
          "text": [
            " * Serving Flask app \"__main__\" (lazy loading)\n",
            " * Environment: production\n",
            "\u001b[31m   WARNING: This is a development server. Do not use it in a production deployment.\u001b[0m\n",
            "\u001b[2m   Use a production WSGI server instead.\u001b[0m\n",
            " * Debug mode: off\n"
          ],
          "name": "stdout"
        },
        {
          "output_type": "stream",
          "text": [
            " * Running on http://127.0.0.1:5000/ (Press CTRL+C to quit)\n"
          ],
          "name": "stderr"
        },
        {
          "output_type": "stream",
          "text": [
            " * Running on http://7a48f7bdb049.ngrok.io\n",
            " * Traffic stats available on http://127.0.0.1:4040\n"
          ],
          "name": "stdout"
        }
      ]
    },
    {
      "cell_type": "markdown",
      "metadata": {
        "id": "XUefM0iGiOpa",
        "colab_type": "text"
      },
      "source": [
        "Donde se obtiene, en el segundo URL, un URL público seguro al que puede acceder una persona desde internet.\n"
      ]
    },
    {
      "cell_type": "markdown",
      "metadata": {
        "id": "tvZYu8Xt3fBO",
        "colab_type": "text"
      },
      "source": [
        "## **Explicación del código:**\n",
        "\n",
        "La explicación del código anterior se limitará a las sentencias en Flask y no al puente construido con **ngrok** para poder ejecutar flask en el colab. El código que puede ser ejecutado en un ordenador local con `flask` sería el siguiente:\n",
        "\n",
        "\n",
        "```\n",
        "from flask import Flask\n",
        "\n",
        "app = Flask(__name__)\n",
        "\n",
        "@app.route(\"/\")\n",
        "def home():\n",
        "    return \"<h1>Ejecución de Flask on Google Colab!</h1>\"\n",
        "\n",
        "if __name__ == '__main__':\n",
        " app.run()\n",
        "```"
      ]
    },
    {
      "cell_type": "markdown",
      "metadata": {
        "id": "zGUIPFpDAhs9",
        "colab_type": "text"
      },
      "source": [
        "###**Inicialización:**\n",
        "\n",
        "Todas las applicaciones en `Flask` deben crear una instancia de aplicación. El servidor web envía todas las solicitudes que recibe de los clientes a esta instancia u objeto creado mediante un protocolo llamado *Interfaz de puerta de enlace del servidor web* (WSGI). La instancia es entonces un objeto de la clases Flask que se crea mediante la sentencia:\n",
        "\n",
        "```\n",
        "app = Flask(__name__)\n",
        "```\n",
        "\n",
        "El único argumento que se requiere al usar el constructor de la clase `Flask` es el nómbre del módulo o paquete principal; en la mayoría de aplicaciones la variable `__name__` representa el valor correcto. El argumento `__name__` determina, en este caso, la ruta raiz de la aplicación, de tal forma que, posteriormente, ésta pueda encontrar archivos de recursos relacionados con la ubicación de la aplicación. Sobre el argumento `__name__` se debe puntualizar lo siguiente:\n",
        "\n",
        "- Cuando el intérprete lee un archivo de código, ejecuta todo el código global que se encuentra en él. Esto implica crear objetos para toda función o clase definida y variables globales.\n",
        "\n",
        "- Todo módulo (archivo de código) en Python tiene un atributo especial llamado `__name__` que define el espacio de nombres en el que se está ejecutando. Es usado para identificar de forma única un módulo en el sistema de importaciones.\n",
        "\n",
        "- Por otra parte, la cadena `'__main__'` es el nombre del ámbito en el que se ejecuta el programa principal.\n",
        "\n",
        "- El intérprete pasa el valor del atributo `__name__` a la cadena `'__main__'` si el módulo se está ejecutando como programa principal (ejecutando el presente colab).\n",
        "\n",
        "- Si el módulo no es llamado como programa principal, sino que es importado desde otro módulo, el atributo `__name__` tendrá como valor el nombre de dicho modulo. Al ejecutar en la terminal `Flask.__name__` se obtentra como resultado la cadena `Flask`."
      ]
    },
    {
      "cell_type": "markdown",
      "metadata": {
        "id": "DkEi19SWAndo",
        "colab_type": "text"
      },
      "source": [
        "###**Funciones de vista y rutas**\n",
        "\n",
        "Un cliente (por ejemplo un navegador web), debe enviar una solicitud al servidor web, el cual la envía a la instacia de la aplicación `Flask`. La instancia debe saber qué código se debe ejecutar para cada URL solicitada, por lo que mantiene una asignación de las URL a las funciones de Python. La asociación entre una URL y la función que la manipula se le conoce con el nombre de *ruta*. Para definir una ruta en `flask` es a través del decorador `app.route` contenido en el objeto `app` y que regista la función decorada como ruta. La forma de invocar y registrar la función como ruta es la siguiente:\n",
        "\n",
        "\n",
        "\n",
        "```\n",
        "@app.route(\"/\")\n",
        "def home():\n",
        "    return \"<h1>Ejecución de Flask on Google Colab!</h1>\"\n",
        "```\n",
        "\n",
        "\n",
        "\n",
        "\n",
        "---\n",
        "**Decorador:** En `python`, un decorador es una característica estándar que puede modificar el comportamiento de una función de varias formas. Un patrón común es usar un decorador para registrar un función como un controlador para un evento.\n",
        "\n",
        "---\n",
        "\n",
        "\n",
        "En estas líneas de código, se registra la función `index()` como controlador de la aplicacion raíz. El valor que retorna esta función, que se conoce como **respuesta**, es lo que recibe el cliente. En el caso de un cliente representado por un navegador web, *la respuesta es el documento que se muestra al usuario*. Por otra parte, la función `index()` se denomina **función de vista**. En nuestro caso, la respuesta devuelta por esta función de vista es una cadena simple con contenido HTML, no obstante, puede adquirir formas más complejas. \n",
        "\n",
        "**Nota:** En este código las respuestas son embebidas en cadenas de caracteres que siguen un código HTML, lo cual es difícil de mantener. Más adelante se verá como generar respuestas a través de plantillas."
      ]
    },
    {
      "cell_type": "markdown",
      "metadata": {
        "id": "RZPBJv-IQc7A",
        "colab_type": "text"
      },
      "source": [
        "####**Inicio del servidor**\n",
        "\n",
        "La instancia de la aplicación posee un método de ejecución que inicia el servidor web de desarrollo integrado:\n",
        "\n",
        "    if __name__ == '__main__':\n",
        "      app.run()\n",
        "\n",
        "\n",
        "El booleano del condicional `__name__ == '__main__'` en `Python` se usa para asegurar que el servidor web de desarrollo solo se iniciará cuando se ejecute el script directamente. Cuando el script es importado por otro, se asume que el script principal iniciará un servidor diferente, por ende, la llamada `app.run()` será omitida.\n",
        "\n",
        "**NOTA:** El servidor web  proporcionado por `Flask` no tiene como fin un uso de producción."
      ]
    },
    {
      "cell_type": "markdown",
      "metadata": {
        "id": "cPsvrJUFQyXp",
        "colab_type": "text"
      },
      "source": [
        "# **Ciclo solicitud-respuesta**\n",
        "\n",
        "A continuación se expondrá alguno de los aspectos de diseño de `Flask`."
      ]
    },
    {
      "cell_type": "markdown",
      "metadata": {
        "id": "mp51eFaDROcC",
        "colab_type": "text"
      },
      "source": [
        "##**Aplicaciones y contextos de solicitud:**\n",
        "\n",
        "Cuando `Flask` recibe una solicitud de un cliente, se necesita crean algunos objetos que estarán disponibles para que la *función de vista* los manipule. Un ejemplo de dichos objetos es **objeto de solicitud**, que se enmascara la solicitud HTTP enviada por el cliente. \n",
        "\n",
        "La forma mas evidente en la cual `Flask` le puede dar acceso a una función de vista al objeto de solicitud es enviarlo como un argumento, pero esto requeriría que cada función de vista de la apliación tuviese un argumeto de más. Además, las cosas se complicarían si se considera que los objetos de solicitud no son los únicos objetos que las funciones de vista deben acceder para cumplir con una solicitud.\n",
        "\n",
        "Para evitar saturar las funciones de vista con muchos argumentos, Flask usa el concepto de **contextos** para hacer que ciertos objetos sean accesibles globalmente temporalmente. Gracias a los contextos, se pueden escribir funciones de vista como la siguiente:\n",
        "\n",
        "\n",
        "\n",
        "```\n",
        "from flask import request\n",
        "\n",
        "# Rutas\n",
        "@app.route('/')\n",
        "\n",
        "# Vista\n",
        "def index():\n",
        "  user_agent = request.headers.get('User-Agent')\n",
        "  return '<p>Your browser is %s</p>' % user_agent\n",
        "```\n",
        "\n",
        "Nótese como en esta función de vista, la solicitud es usada como si fuese una variable global. En realidad, la solicitud no puede ser una variable global si consideramos que en un servidor multihilos, los hilos trabajan en solicitudes de diferentes clientes al mismo tiempo, de forma que a cada proceso se le debe \"reservar\" un objeto diferente en la solicitud. Los contextos le permiten a `Flask` hacer ciertas variables globales para que sean accesibles a un hilo sin interferir con otros.\n",
        "\n",
        "\n",
        "\n",
        "---\n",
        "**Hilo:** secuencia pequeña de instrucciones que se pueden administrar de forma independiente. En un proceso se pueden tener varios hilos activos al mismo tiempo, algunas veces, compartiendo recursos como memoria o identificadores de archivos. Los servidores web multihilos inician un subconjunto de hilos y seleccionan un hilo de ellos para manejar cada solicitud entrante.\n",
        "\n",
        "---\n",
        "\n",
        "En `Flask`, existen dos **contextos**: \n",
        "\n",
        "- Los contextos de aplicación.\n",
        "- Los contextos de solicitud.\n",
        "\n",
        "En la siguiente tabla se muestran las variables expuesta por cada uno de estos contextos.\n",
        "\n",
        "\n",
        "Variable | Context | Descripción\n",
        "--|--|--\n",
        "`current_app` | Contexto de aplicacón | Instancia de aplicación para una aplicación activa\n",
        "`g` | Contexto de aplicación | Objeto que la aplicación puede usar como almacenamiento temporal durante <br>la manipulación de una solicitud. Esta variable se reinicia en cada solicitud.\n",
        "`request` | Contexto de solicitud | Objeto de solicitud, el cual enmascara los contenidos de una solicitud HTTP <br> enviada por el cliente.\n",
        "`session` | Contexto de solicitud | Sesión de usuario que corresponde a un diccionario que la aplicación puede <br> usar para almacenar valores que deben tenerse en cuentra entre solicitudes.\n",
        "\n",
        "Antes de enviar una solicitud, `Flask` activa la app y los contextos de solicitud, los cuales son eliminados cuando se tramíta la solicitud. Cuando opera el contexto de aplicación, las variables `current_app` y `g` están disponibles para el hilo; así mismo, cuado el contexto de solicitud opera, la solicitud y la sesión también están disponibles. Si se accede a cualquiera de estas variables sin tener alguna aplicación activa o contexto de solicitud, se fenera un error. Por ejemplo, veamos el error que se obtendrá sino se ha definido el contexto de aplicación si corremos, junto a l archivo de [este link](https://github.com/ssanchezgoe/flask_vscode_tutorial/blob/master/hello.py), las siguientes líneas de código :"
      ]
    },
    {
      "cell_type": "code",
      "metadata": {
        "id": "4Y5LKHXxZdhI",
        "colab_type": "code",
        "colab": {
          "base_uri": "https://localhost:8080/",
          "height": 240
        },
        "outputId": "77e013d6-2e6b-41ca-9ac9-2a2d73da5764"
      },
      "source": [
        "!wget https://raw.githubusercontent.com/ssanchezgoe/flask_vscode_tutorial/master/hello.py\n",
        "\n",
        "from hello import app\n",
        "from flask import current_app\n",
        "\n",
        "current_app.name"
      ],
      "execution_count": 21,
      "outputs": [
        {
          "output_type": "stream",
          "text": [
            "--2020-08-13 20:42:24--  https://raw.githubusercontent.com/ssanchezgoe/flask_vscode_tutorial/master/hello.py\n",
            "Resolving raw.githubusercontent.com (raw.githubusercontent.com)... 151.101.0.133, 151.101.64.133, 151.101.128.133, ...\n",
            "Connecting to raw.githubusercontent.com (raw.githubusercontent.com)|151.101.0.133|:443... connected.\n",
            "HTTP request sent, awaiting response... 200 OK\n",
            "Length: 247 [text/plain]\n",
            "Saving to: ‘hello.py’\n",
            "\n",
            "\rhello.py              0%[                    ]       0  --.-KB/s               \rhello.py            100%[===================>]     247  --.-KB/s    in 0s      \n",
            "\n",
            "2020-08-13 20:42:24 (15.9 MB/s) - ‘hello.py’ saved [247/247]\n",
            "\n"
          ],
          "name": "stdout"
        },
        {
          "output_type": "execute_result",
          "data": {
            "application/vnd.google.colaboratory.intrinsic+json": {
              "type": "string"
            },
            "text/plain": [
              "'hello'"
            ]
          },
          "metadata": {
            "tags": []
          },
          "execution_count": 21
        }
      ]
    },
    {
      "cell_type": "markdown",
      "metadata": {
        "id": "vx1cRhs9fQMr",
        "colab_type": "text"
      },
      "source": [
        "Para evitar este error, debemos antes activar el contexto de la aplicación mediante la siguiente forma"
      ]
    },
    {
      "cell_type": "code",
      "metadata": {
        "id": "oSazwMC4eR1r",
        "colab_type": "code",
        "colab": {
          "base_uri": "https://localhost:8080/",
          "height": 34
        },
        "outputId": "ae3dc657-f5d0-4aea-f1dd-307f0df15a50"
      },
      "source": [
        "from hello import app\n",
        "from flask import current_app\n",
        "\n",
        "app_ctx = app.app_context()\n",
        "app_ctx.push()\n",
        "print('Ahora si que obtenemos el nombre de la app en ejecución: ', current_app.name)\n",
        "app_ctx.pop()"
      ],
      "execution_count": 22,
      "outputs": [
        {
          "output_type": "stream",
          "text": [
            "Ahora si que obtenemos el nombre de la app en ejecución:  hello\n"
          ],
          "name": "stdout"
        }
      ]
    },
    {
      "cell_type": "markdown",
      "metadata": {
        "id": "UmA_qDkJfyEw",
        "colab_type": "text"
      },
      "source": [
        "##**Solicitud de envío**\n",
        "\n",
        "Cuando una aplicación recibe una solicitud de un cliente, necesita saber que función de vista llama para tramitarla."
      ]
    },
    {
      "cell_type": "code",
      "metadata": {
        "id": "SDrGGRdhkVdA",
        "colab_type": "code",
        "colab": {
          "base_uri": "https://localhost:8080/",
          "height": 67
        },
        "outputId": "f7cfc21e-5958-4eda-d5f2-0674f3113be9"
      },
      "source": [
        "from hello import app\n",
        "app.url_map"
      ],
      "execution_count": 23,
      "outputs": [
        {
          "output_type": "execute_result",
          "data": {
            "text/plain": [
              "Map([<Rule '/' (GET, OPTIONS, HEAD) -> index>,\n",
              " <Rule '/static/<filename>' (GET, OPTIONS, HEAD) -> static>,\n",
              " <Rule '/user/<name>' (GET, OPTIONS, HEAD) -> user>])"
            ]
          },
          "metadata": {
            "tags": []
          },
          "execution_count": 23
        }
      ]
    },
    {
      "cell_type": "markdown",
      "metadata": {
        "id": "CSxsHF5bkbXQ",
        "colab_type": "text"
      },
      "source": [
        "Del anterior mapa se puntualiza lo siguiente:\n",
        "\n",
        "Los decoradores en la aplicación definen las rutas:\n",
        "\n",
        "- / \n",
        "- /user/<name> \n",
        "\n",
        "`Flask` adiciona la ruta `/static/<filename>`para darle acceso a archivos estáticos (de los cuales se hablará más adelante). \n",
        "\n",
        "Los elementos:\n",
        "\n",
        "- HEAD\n",
        "- OPTIONS\n",
        "- GET\n",
        "\n",
        "repreentan los **métodos** de solicitud que son empleados por la ruta. `Flask` adjunta a cada ruta  métodos de tal forma que diferentes métodos de solicitud enviados al mismo URL puedan ser empleados por diferentes funciones de vista. Los métodos `HEAD` y `OPTIONS` son empleados automáticamente por `Flask`, de tal forma que en la práctica se puede decir en esta aplicación las tres rutas en el mapa URL se adjuntan al método `GET`. Más adelande se estudiarán diferentes métodos de solicitud para rutas."
      ]
    }
  ]
}