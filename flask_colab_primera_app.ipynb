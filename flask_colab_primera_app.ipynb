{
  "nbformat": 4,
  "nbformat_minor": 0,
  "metadata": {
    "colab": {
      "name": "flask_colab_primera_app.ipynb",
      "provenance": [],
      "collapsed_sections": [],
      "include_colab_link": true
    },
    "kernelspec": {
      "name": "python3",
      "display_name": "Python 3"
    }
  },
  "cells": [
    {
      "cell_type": "markdown",
      "metadata": {
        "id": "view-in-github",
        "colab_type": "text"
      },
      "source": [
        "<a href=\"https://colab.research.google.com/github/ssanchezgoe/flask_vscode_tutorial/blob/master/flask_colab_primera_app.ipynb\" target=\"_parent\"><img src=\"https://colab.research.google.com/assets/colab-badge.svg\" alt=\"Open In Colab\"/></a>"
      ]
    },
    {
      "cell_type": "markdown",
      "metadata": {
        "id": "8evHPHQ_7_Zr",
        "colab_type": "text"
      },
      "source": [
        "\n",
        "<center>\n",
        "    <img src=\"https://github.com/ssanchezgoe/flask_vscode_tutorial/blob/master/imagenes/flask_colab_logo.png?raw=true\" alt=\"centered image\" />\n",
        "</center>"
      ]
    },
    {
      "cell_type": "markdown",
      "metadata": {
        "id": "uqZ7QpcwMP8f",
        "colab_type": "text"
      },
      "source": [
        "Google Colab nos proporciona una máquina virtual (Virtual Machine- VM), por lo que no tenemos acceso a un localhost, como si lo tenemos en un pc propio cuando ejecutamos un servidor web local. Lo que se puede hacer en este caso is acudir a un URL público usando la librería de python **flask-ngrok**. \n",
        "\n",
        "\n",
        "\n",
        "---\n",
        "**ngrok:** es una herramiente que permite el acceso de cualquier persona en internet al contenido almacenado en un servidor local al generar un URL dinámicamente. Esta herramienta resulta útil en el caso que, por ejemplo, trabajemos con desarrolladores de forma remota y se pretende mostrar los \n",
        "\n",
        "Ngrok es una herramienta que permite acceder nuestro servidor local a cualquier persona en internet con la que compartamos una url generada dinamicamente , esto es muy útil por ejemplo cuando necesitamos mostrar avances constantemente en sitios que se encuentran en etapa de desarrollo o cuando trabajamos con un equipo de desarrolladores de forma remota .\n",
        "\n",
        "\n",
        "NGROK nos permite realizar esto sin hacer ninguna configuración extra en el router o firewall simplemente basta con bajar la pequeña aplicación\n",
        "\n",
        "---\n",
        "\n",
        "\n",
        "Instalemos dicha librería primero:"
      ]
    },
    {
      "cell_type": "code",
      "metadata": {
        "id": "msDsihhVXrYX",
        "colab_type": "code",
        "colab": {
          "base_uri": "https://localhost:8080/",
          "height": 238
        },
        "outputId": "f21b6c00-a2d3-4a1b-f65b-132088fe4e86"
      },
      "source": [
        "!pip install flask-ngrok"
      ],
      "execution_count": 10,
      "outputs": [
        {
          "output_type": "stream",
          "text": [
            "Requirement already satisfied: flask-ngrok in /usr/local/lib/python3.6/dist-packages (0.0.25)\n",
            "Requirement already satisfied: Flask>=0.8 in /usr/local/lib/python3.6/dist-packages (from flask-ngrok) (1.1.2)\n",
            "Requirement already satisfied: requests in /usr/local/lib/python3.6/dist-packages (from flask-ngrok) (2.23.0)\n",
            "Requirement already satisfied: click>=5.1 in /usr/local/lib/python3.6/dist-packages (from Flask>=0.8->flask-ngrok) (7.1.2)\n",
            "Requirement already satisfied: Werkzeug>=0.15 in /usr/local/lib/python3.6/dist-packages (from Flask>=0.8->flask-ngrok) (1.0.1)\n",
            "Requirement already satisfied: Jinja2>=2.10.1 in /usr/local/lib/python3.6/dist-packages (from Flask>=0.8->flask-ngrok) (2.11.2)\n",
            "Requirement already satisfied: itsdangerous>=0.24 in /usr/local/lib/python3.6/dist-packages (from Flask>=0.8->flask-ngrok) (1.1.0)\n",
            "Requirement already satisfied: idna<3,>=2.5 in /usr/local/lib/python3.6/dist-packages (from requests->flask-ngrok) (2.10)\n",
            "Requirement already satisfied: urllib3!=1.25.0,!=1.25.1,<1.26,>=1.21.1 in /usr/local/lib/python3.6/dist-packages (from requests->flask-ngrok) (1.24.3)\n",
            "Requirement already satisfied: chardet<4,>=3.0.2 in /usr/local/lib/python3.6/dist-packages (from requests->flask-ngrok) (3.0.4)\n",
            "Requirement already satisfied: certifi>=2017.4.17 in /usr/local/lib/python3.6/dist-packages (from requests->flask-ngrok) (2020.6.20)\n",
            "Requirement already satisfied: MarkupSafe>=0.23 in /usr/local/lib/python3.6/dist-packages (from Jinja2>=2.10.1->Flask>=0.8->flask-ngrok) (1.1.1)\n"
          ],
          "name": "stdout"
        }
      ]
    },
    {
      "cell_type": "markdown",
      "metadata": {
        "id": "fNmnI79EAQj2",
        "colab_type": "text"
      },
      "source": [
        "# **Primer programa en `flask`**:"
      ]
    },
    {
      "cell_type": "code",
      "metadata": {
        "id": "K1UI7Pz-Xvfo",
        "colab_type": "code",
        "colab": {
          "base_uri": "https://localhost:8080/",
          "height": 151
        },
        "outputId": "3a417b1f-4db2-4bce-b87f-90f4d4ff6970"
      },
      "source": [
        "from flask_ngrok import run_with_ngrok\n",
        "from flask import Flask\n",
        "\n",
        "app = Flask(__name__)\n",
        "\n",
        "run_with_ngrok(app)   #Ejecución de ngrok una vez la app está en marcha\n",
        "\n",
        "# Rutas y vistas.\n",
        "@app.route(\"/\")\n",
        "def home():\n",
        "    return \"<h1>Ejecución de Flask on Google Colab!</h1>\"\n",
        "  \n",
        "if __name__ == '__main__':\n",
        " app.run()"
      ],
      "execution_count": 11,
      "outputs": [
        {
          "output_type": "stream",
          "text": [
            " * Serving Flask app \"__main__\" (lazy loading)\n",
            " * Environment: production\n",
            "\u001b[31m   WARNING: This is a development server. Do not use it in a production deployment.\u001b[0m\n",
            "\u001b[2m   Use a production WSGI server instead.\u001b[0m\n",
            " * Debug mode: off\n"
          ],
          "name": "stdout"
        },
        {
          "output_type": "stream",
          "text": [
            " * Running on http://127.0.0.1:5000/ (Press CTRL+C to quit)\n"
          ],
          "name": "stderr"
        },
        {
          "output_type": "stream",
          "text": [
            " * Running on http://7a48f7bdb049.ngrok.io\n",
            " * Traffic stats available on http://127.0.0.1:4040\n"
          ],
          "name": "stdout"
        }
      ]
    },
    {
      "cell_type": "markdown",
      "metadata": {
        "id": "XUefM0iGiOpa",
        "colab_type": "text"
      },
      "source": [
        "Donde se obtiene, en el segundo URL, un URL público seguro al que puede acceder una persona desde internet.\n"
      ]
    },
    {
      "cell_type": "markdown",
      "metadata": {
        "id": "tvZYu8Xt3fBO",
        "colab_type": "text"
      },
      "source": [
        "## **Explicación del código:**\n",
        "\n",
        "La explicación del código anterior se limitará a las sentencias en Flask y no al puente construido con **ngrok** para poder ejecutar flask en el colab. El código que puede ser ejecutado en un ordenador local con `flask` sería el siguiente:\n",
        "\n",
        "\n",
        "```\n",
        "from flask import Flask\n",
        "\n",
        "app = Flask(__name__)\n",
        "\n",
        "@app.route(\"/\")\n",
        "def home():\n",
        "    return \"<h1>Ejecución de Flask on Google Colab!</h1>\"\n",
        "\n",
        "if __name__ == '__main__':\n",
        " app.run()\n",
        "```"
      ]
    },
    {
      "cell_type": "markdown",
      "metadata": {
        "id": "zGUIPFpDAhs9",
        "colab_type": "text"
      },
      "source": [
        "###**Inicialización:**\n",
        "\n",
        "Todas las applicaciones en `Flask` deben crear una instancia de aplicación. El servidor web envía todas las solicitudes que recibe de los clientes a esta instancia u objeto creado mediante un protocolo llamado *Interfaz de puerta de enlace del servidor web* (WSGI). La instancia es entonces un objeto de la clases Flask que se crea mediante la sentencia:\n",
        "\n",
        "```\n",
        "app = Flask(__name__)\n",
        "```\n",
        "\n",
        "El único argumento que se requiere al usar el constructor de la clase `Flask` es el nómbre del módulo o paquete principal; en la mayoría de aplicaciones la variable `__name__` representa el valor correcto. El argumento `__name__` determina, en este caso, la ruta raiz de la aplicación, de tal forma que, posteriormente, ésta pueda encontrar archivos de recursos relacionados con la ubicación de la aplicación. Sobre el argumento `__name__` se debe puntualizar lo siguiente:\n",
        "\n",
        "- Cuando el intérprete lee un archivo de código, ejecuta todo el código global que se encuentra en él. Esto implica crear objetos para toda función o clase definida y variables globales.\n",
        "\n",
        "- Todo módulo (archivo de código) en Python tiene un atributo especial llamado `__name__` que define el espacio de nombres en el que se está ejecutando. Es usado para identificar de forma única un módulo en el sistema de importaciones.\n",
        "\n",
        "- Por otra parte, la cadena `'__main__'` es el nombre del ámbito en el que se ejecuta el programa principal.\n",
        "\n",
        "- El intérprete pasa el valor del atributo `__name__` a la cadena `'__main__'` si el módulo se está ejecutando como programa principal (ejecutando el presente colab).\n",
        "\n",
        "- Si el módulo no es llamado como programa principal, sino que es importado desde otro módulo, el atributo `__name__` tendrá como valor el nombre de dicho modulo. Al ejecutar en la terminal `Flask.__name__` se obtentra como resultado la cadena `Flask`."
      ]
    },
    {
      "cell_type": "markdown",
      "metadata": {
        "id": "DkEi19SWAndo",
        "colab_type": "text"
      },
      "source": [
        "###**Funciones de vista y rutas**\n",
        "\n",
        "Un cliente (por ejemplo un navegador web), debe enviar una solicitud al servidor web, el cual la envía a la instacia de la aplicación `Flask`. La instancia debe saber qué código se debe ejecutar para cada URL solicitada, por lo que mantiene una asignación de las URL a las funciones de Python. La asociación entre una URL y la función que la manipula se le conoce con el nombre de *ruta*. Para definir una ruta en `flask` es a través del decorador `app.route` contenido en el objeto `app` y que regista la función decorada como ruta. La forma de invocar y registrar la función como ruta es la siguiente:\n",
        "\n",
        "\n",
        "\n",
        "```\n",
        "@app.route(\"/\")\n",
        "def home():\n",
        "    return \"<h1>Ejecución de Flask on Google Colab!</h1>\"\n",
        "```\n",
        "\n",
        "\n",
        "\n",
        "\n",
        "---\n",
        "**Decorador:** En `python`, un decorador es una \n",
        "\n",
        "---\n",
        "\n",
        "característica estándar que puede modificar el \n",
        "\n",
        "---\n",
        "\n",
        "comportamiento de una función de varias formas. Un patrón común es usar un decorador para registrar un función como un controlador para un evento.\n",
        "\n",
        "---\n",
        "\n",
        "\n",
        "\n",
        "En estas líneas de código, se registra la función `index()` como controlador de la aplicacion raíz. El valor que retorna esta función, que se conoce como **respuesta**, es lo que recibe el cliente. En el caso de un cliente representado por un navegador web, *la respuesta es el documento que se muestra al usuario*. Por otra parte, la función `index()` se denomina **función de vista**. En nuestro caso, la respuesta devuelta por esta función de vista es una cadena simple con contenido HTML, no obstante, puede adquirir formas más complejas. \n",
        "\n",
        "**Nota:** En este código las respuestas son embebidas en cadenas de caracteres que siguen un código HTML, lo cual es difícil de mantener. Más adelante se verá como generar respuestas a través de plantillas."
      ]
    },
    {
      "cell_type": "markdown",
      "metadata": {
        "id": "RZPBJv-IQc7A",
        "colab_type": "text"
      },
      "source": [
        "####**Inicio del servidor**\n",
        "\n",
        "La instancia de la aplicación posee un método de ejecución que inicia el servidor web de desarrollo integrado:\n",
        "\n",
        "    if __name__ == '__main__':\n",
        "      app.run()\n",
        "\n",
        "\n",
        "El booleano del condicional `__name__ == '__main__'` en `Python` se usa para asegurar que el servidor web de desarrollo solo se iniciará cuando se ejecute el script directamente. Cuando el script es importado por otro, se asume que el script principal iniciará un servidor diferente, por ende, la llamada `app.run()` será omitida.\n",
        "\n",
        "**NOTA:** El servidor web  proporcionado por `Flask` no tiene como fin un uso comercial."
      ]
    }
  ]
}