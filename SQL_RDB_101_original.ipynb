{
  "nbformat": 4,
  "nbformat_minor": 0,
  "metadata": {
    "colab": {
      "name": "SQL_RDB_101_original.ipynb",
      "provenance": [],
      "collapsed_sections": [
        "P4VlVjjVsHTY",
        "X6kHYKZEE7wE",
        "AebTHOB45xGW"
      ],
      "authorship_tag": "ABX9TyPjKGZxn6r5Lg1K5lUXi169",
      "include_colab_link": true
    },
    "kernelspec": {
      "name": "python3",
      "display_name": "Python 3"
    }
  },
  "cells": [
    {
      "cell_type": "markdown",
      "metadata": {
        "id": "view-in-github",
        "colab_type": "text"
      },
      "source": [
        "<a href=\"https://colab.research.google.com/github/ssanchezgoe/flask_vscode_tutorial/blob/master/SQL_RDB_101_original.ipynb\" target=\"_parent\"><img src=\"https://colab.research.google.com/assets/colab-badge.svg\" alt=\"Open In Colab\"/></a>"
      ]
    },
    {
      "cell_type": "markdown",
      "metadata": {
        "id": "P4VlVjjVsHTY",
        "colab_type": "text"
      },
      "source": [
        "#**Learning Objetives**\n",
        "\n",
        "- The SQL language\n",
        "- The relational database model\n",
        "- The relational model\n",
        "- Relational model concepts and constraints\n",
        "\n"
      ]
    },
    {
      "cell_type": "markdown",
      "metadata": {
        "id": "EV1VF1rzt7lB",
        "colab_type": "text"
      },
      "source": [
        "## **Sylabus**\n",
        "\n",
        "**Module 1 - SQL and Relational Databases 101**\n",
        "\n",
        "- Introduction to SQL and Relational Databases\n",
        "- Information and Data Models\n",
        "- Types of Relationships\n",
        "- Mapping Entities to Tables\n",
        "- Relational Model Concepts  \n",
        "\n",
        "**Module 2 - Relational Model Constraints and Data Objects**\n",
        "\n",
        "- Relational Model Constraints Introduction\n",
        "- Relational Model Constraints Advanced \n",
        "\n",
        "**Module 3 - Data Definition Language (DDL) and Data Manipulation Language (DML)**\n",
        "\n",
        "- CREATE TABLE statement\n",
        "- INSERT statement\n",
        "- SELECT statement\n",
        "- UPDATE and DELETE statements\n",
        "\n",
        "**Module 4 - Advanced DDL and DML**\n",
        "\n",
        "- String Patterns, Ranges, and Sets\n",
        "- Sorting Result Sets  \n",
        "- Grouping Result Sets\n",
        "\n",
        "**Module 5 - Working with multiple tables**\n",
        "\n",
        "- Join Overview\n",
        "- Inner Join\n",
        "- Left Outer Join\n",
        "- Right Outer Join\n",
        "- Full Join\n"
      ]
    },
    {
      "cell_type": "markdown",
      "metadata": {
        "id": "X6kHYKZEE7wE",
        "colab_type": "text"
      },
      "source": [
        "#**A. SQL y Bases de datos relacionales**"
      ]
    },
    {
      "cell_type": "markdown",
      "metadata": {
        "id": "ZQwDggRhu2g-",
        "colab_type": "text"
      },
      "source": [
        "##**1. ¿Qué es SQL las bases de datos relacionales?**\n",
        "\n",
        "**¿Qué es SQL?**\n",
        "\n",
        "SQL es un lenguaje usado para las bases de datos relacionales para consultar y obtener datos de las bases de datos.\n",
        "\n",
        "SQL es el acrónimo en inglés de **Structured english Query Language**, o, **Lenguaje estructurado de consulta**. De esta forma, SQL es un lenguaje usado usado en una base de datos para la consulta de datos.\n",
        "\n",
        "**¿Que son los Datos?**\n",
        "\n",
        "Los datos corresponden a colecciones de hechos en forma de:\n",
        "\n",
        "- Palabras: que pueden representar categorias, reseñas, etc.\n",
        "- Números: Como la edad de una persona, el ingreso mensual, etc.\n",
        "- Imágnes.\n",
        "- Etc.\n",
        "\n",
        "Tenemos que tener en cuenta que **los datos representan el activo más importante para cualquier negocio**. Existen varios ejemplos del uso de datos por parte de compañias:\n",
        "\n",
        "- Los bancos, por ejemplo, guardan de cada uno de nosotros un perfil con datos como el nombre, la dirección de residencia, el número de móvil, el número de cuenta, etc.\n",
        "\n",
        "- Ciertas compañias de telecomunicaciones pueden almacenar datos de personas como su cupo de endeudamiento, el estrato en el que viven, un estimado de ingresos mensuales, etc.\n",
        "\n",
        "Con el fin de tener acceso a estos datos de forma fácil y segura es que se crean las bases de datos.\n",
        "\n",
        "**¿Qué es una base de datos?**\n",
        "\n",
        "Una base de datos es un repositorio que almacena información de forma estructurada o no. Corresponde entonces, a un programa que almacena datos. Una base de datos proporciona, a su vez, las funcionalidades necesarias para **adicionar, modificar y consultar los datos**. \n",
        "\n",
        "Existen diferentes tipos de bases de datos que tienen como fin satisfacer diferentes necesidades, de tal forma que pueden ser guardadas de varias formas. \n",
        "\n",
        "**Bases de datos relacionales**\n",
        "\n",
        "En el caso de tener diferentes datos almacenados en una forma tabular, organizados en tablas, como en el caso de una hoja de cálculo, hablamos de una báse de datos relacional. La siguiente figura ilustra un elemento de este tipo de base de datos, con el que muchos de ustedes estarán familiarizados.\n",
        "\n",
        "<center>\n",
        "    <img height=\"200px\" src=\"https://github.com/ssanchezgoe/flask_vscode_tutorial/blob/master/imagenes/tabla_ejemplo.png?raw=true\" />\n",
        "</center>\n",
        "\n",
        "Cada una de las columnas contienen propiedades sobre los ítems como el Nombre, la Ciudad, la Edad, el e-mail y el País. \n",
        "\n",
        "Definimos, entonces, a una tabla como una colección de elementos relacionados, como una lista de empleados, o una lista de autores de artículos, etc. En la bases de datos relacionales podemos formar relaciones entre tablas. Así, **una base de datos es un repocitorio de datos**.\n",
        "\n",
        "Respecto a la funcionalidad operativa de la base de datos, definimos a un **sistema de gestión de bases de datos** (en inglés DBMS - Data Base Managment System). A menudo, al DBMS se le denomina como *base de datos*, *servidor de base de datos*, *servidor de datos* o *gestor de base de datos*. En el caso de una base de datos relacional, se le conoce, en inglés, como RDBMS (Relational Data Base Managment System). \n",
        "\n",
        "---\n",
        "**RDBMS:** Conjunto de herramientas de software que controla aspectos de los datos como acceso, organización y almacenamiento.\n",
        "\n",
        "Algunos ejemplos de *RDBMS* son:\n",
        "\n",
        "- MySQL\n",
        "- Oracle\n",
        "- DB2 Express-C\n",
        "---\n",
        "\n",
        "Para la mayoria de personas que usan una base de datos, existen cinco comandos de uso común los cuales son:\n",
        "\n",
        "- Crear tabla\n",
        "- Insertar datos \n",
        "- Seleccionar datos de una tabla\n",
        "- Actualizar datos de una tabla\n",
        "- Borrar datos de una tabla\n",
        "\n",
        "que representan los pilares en SQL y las bases de datos relacionales.\n",
        "\n",
        "\n"
      ]
    },
    {
      "cell_type": "markdown",
      "metadata": {
        "id": "GQGGv54YwAvs",
        "colab_type": "text"
      },
      "source": [
        "## **2. Información y Modelos de datos**\n",
        "\n",
        "Objetivos de la unidad:\n",
        "\n",
        "1. Descripcion de diferencias entre modelo de información y modelo de datos\n",
        "2. Explicación de la ventaja de un modelo relacional.\n",
        "3. Descripción de la diferencia entre una entidad y un atributo.\n",
        "\n"
      ]
    },
    {
      "cell_type": "markdown",
      "metadata": {
        "id": "z_KIupRo_83V",
        "colab_type": "text"
      },
      "source": [
        "###**Modelo de información vs Modelo de datos**\n",
        "\n",
        "Un **modelo de información** es una representanción abstracta y formal de **entidades** que incluye a sus propiedades, relaciones y operaciones que pueden ser realizadas en estas. Las **entidades** que son modeladas pueden provenir del mundo real, como una librería.\n",
        "\n",
        "Los **modelos de información** y los **modelos de datos** son diferentes y sirven para propósitos diferentes. El **modelo de información** se encuentra más a un nivel conceptual que define las relaciones entre los objetos. Los **modelos de datos** se definen a un nivel más concreto, son específicos e incluye detalles concretos. Un modelo de datos es un cianotipo d cualquier sistema de bases de datos. El más popular es el **modelo de datos de tipo jerárquico**, usado para mostrar organigramas. \n",
        "\n",
        "\n",
        "<font color='red'>Figura</font>\n",
        "\n",
        "Como se muestra en la siguiente figura, el modelo jerárquico organiza sus datos usando una estructura de árbol. La raíz del arbol es el **nodo padre** segido de los **nodos hijos**, Un nodo hijo no puede tener más de un padre, no obstante, un nodo padre puede tener varios nodos hijos.\n",
        "\n",
        "<font color='red'>Figura de un organigrama</font>\n"
      ]
    },
    {
      "cell_type": "markdown",
      "metadata": {
        "id": "LpFoLC_0GYBz",
        "colab_type": "text"
      },
      "source": [
        "###**Modelo de datos Relacional o Modelo relacional**\n",
        "\n",
        "El **modelo relacional** es el modelo de datos más usado en bases de datos ya que este modelo permite la indepencencia entre datos. Como se ha mencionado anteriormente, los datos son almacenados en una estructura simple, como una tabla. Esta estructura proporciona una independencia lógida de los datos, una independencia física, y una independencia en su almacenamiento físico. "
      ]
    },
    {
      "cell_type": "markdown",
      "metadata": {
        "id": "hS8PfMR4pbGd",
        "colab_type": "text"
      },
      "source": [
        "###**Modelo de datos entidad-relación**\n",
        "\n",
        "Un modelo de datos **entidad-relación**, o modelo de datos ER, es una alternativa al modelo. Este modelo postula que una base de datos debe ser pensada como una colección de entidades. En lugar de utilizarse este modelo como un modelo de datos en si mismo, el modelo ER se usa como herramienta para diseñar base de datos relacionales. En el modelo ER, las entidades son objetos que existen independientes de cualquier otra entidad en la base de datos. Es sencillo converti un diagrama de ER en una colección de tablas. Los componentes básicos de un diagrama de ER son **entidades** y **atributos**. Las entidades tienen atributos que corresponden a elementos de datos que caracterizan a la entidad, es decir que los atributos nos brindan más información de la entidad. En un diagrama ER, las entidades se dibujan como rectángulos y los atributos como ovalos. Las entidades pueden ser un sustantivo (persona, animal, lugar o cosa). En la siguiente figura se ilustra diagrama ER de forma general.\n",
        "\n",
        "\n",
        "<center>\n",
        "    <img height=\"330px\" src=\"https://github.com/ssanchezgoe/flask_vscode_tutorial/blob/master/imagenes/ERC.png?raw=true\n",
        "\" />\n",
        "</center>\n",
        "\n",
        "Para convertir un modelo ER a una tabla, las entidades corresponderían al nombre de la tabla, y los atributos a la columna, como se especifica en la figura. En el caso concreto de una base de datos de casas, un diagrama ER tendría la siguiente siguiente forma.\n",
        "\n",
        "<center>\n",
        "    <img height=\"330px\" src=\"https://github.com/ssanchezgoe/flask_vscode_tutorial/blob/master/imagenes/ERD_casa.png?raw=true\" />\n",
        "</center>\n",
        "\n",
        "En el proceso de construcción de una base de datos de casas, que puede poseer una inmoviliaria, por ejemplo, lo primero sería identificar cada una de las entidades, y cada una de las entidades deben estar compuestas por sus respectivos atributos. Cada una de las entidades se convertirá entonces en una tabla:\n",
        "\n",
        "\n",
        "<center>\n",
        "    <img height=\"500px\" src=\"https://github.com/ssanchezgoe/flask_vscode_tutorial/blob/master/imagenes/ERD_inmoviliaria.png?raw=true\" />\n",
        "</center>\n",
        "\n",
        "\n"
      ]
    },
    {
      "cell_type": "markdown",
      "metadata": {
        "id": "dfvREj_8we0_",
        "colab_type": "text"
      },
      "source": [
        "##**3. Tipos de relaciones**\n",
        "\n",
        "En esta sección se estudiarán los tipos de **relaciones existentes entre las entidades**. Al final de esta sección, estará habrá adquirido competencias en:\n",
        "\n",
        "- Descripción de los elementos constitutivos de una relación.\n",
        "- Compresión de los simbolos usados en un conjunto de relaciones.\n",
        "- Comprensión de las diferencias de las relaciones uno-contr-uno o varios-contra-varios."
      ]
    },
    {
      "cell_type": "markdown",
      "metadata": {
        "id": "MtJUQV1G6KIK",
        "colab_type": "text"
      },
      "source": [
        "###**Building Blocks - Elementos constitutivos en las relaciones**\n",
        "\n",
        "Los elementos constitutivos (Building Blocks) en una relación están dados por\n",
        "\n",
        "- Entidades\n",
        "\n",
        "  <center>\n",
        "    <img height=\"80px\" src=\"https://github.com/ssanchezgoe/flask_vscode_tutorial/blob/master/imagenes/BB_Entidad.png?raw=true\" />\n",
        "</center>\n",
        "\n",
        "- Conjuntos de relaciones, con líneas conectando las entidades\n",
        "\n",
        "  <center>\n",
        "    <img height=\"200px\" src=\"https://github.com/ssanchezgoe/flask_vscode_tutorial/blob/master/imagenes/BB_Conjunto_relaciones.png?raw=true\" />\n",
        "</center>\n",
        "\n",
        "\n",
        "- Anotaciones de patas de gallo\n",
        "\n",
        "  <center>\n",
        "    <img height=\"80px\" src=\"https://github.com/ssanchezgoe/flask_vscode_tutorial/blob/master/imagenes/BB_pataGallo.png?raw=true\" />\n",
        "</center>\n",
        "\n",
        "\n",
        "Veamos un ejemplo que trabajamos en la sección anterior de entidades y atributos que se resumen en la siguiente tabla: \n",
        "\n",
        "\n",
        "\n",
        "Entidad | Atributos\n",
        "-- | --\n",
        "Vivienda | - Tipo <br> - Precio <br> - Habitaciones <br> - Barrio <br> - Parqueadero <br> - Estrato <br> - Ciudad <br> - Área\n",
        "Propietario | - ID propietario <br> - Nombre <br> - Apellido <br> - e-mail <br> - País <br> - Ciudad\n",
        "\n",
        "**¿Qué relación existe entre las entidades Vivien y Propietario?**\n",
        "\n",
        "1. Una vivienda tiene que tener al menos un propietario.\n",
        "2. Un propietario tendrá al menos una casa\n",
        "\n",
        "De estos ejemplos vemos que una vivienda necesita al menos un propietario. El conjunto de relaciones que se da aquí es de propietario. Una vivienta debe tener al menos un propietario.\n",
        "\n",
        "- **Relación uno a uno** \n",
        "\n",
        "En el siguiente esquema se ilustra dicha relación en donde una vivienda tiene un solo propietario. Las líneas gruesas indican que cada entidad en el conjunto de entidades está relacionada mediante una relación. A esto se le llama relación uno a uno. En los diagramas de relaciones solo se utilizan entidades. Los atributos se omiten porque pueden saturar los diagramas.\n",
        "\n",
        "<center>\n",
        "    <img height=\"200px\" src=\"https://github.com/ssanchezgoe/flask_vscode_tutorial/blob/master/imagenes/one-to-one.png?raw=true\" />\n",
        "</center>\n",
        "\n",
        "- **Relación uno a varios**\n",
        "\n",
        "En el siguiente esquema se ilustra dicha relación en donde una vivienda tiene más de un propietario. Este caso se representa usando el esquema de pata de gato para representar una relación de **uno-a-varios** (one-to-many)\n",
        "\n",
        "\n",
        "<center>\n",
        "    <img height=\"200px\" src=\"https://github.com/ssanchezgoe/flask_vscode_tutorial/blob/master/imagenes/one-to-many.png?raw=true\" />\n",
        "</center>\n",
        "\n",
        "- **Relación varios a varios**\n",
        "\n",
        "En el siguiente esquema se ilustra dicha relación en donde una varias viviendas con varios propietario. Este caso se representa usando dos esquemas de pata de gato para representar las relacion de **varios-a-varios** (many-to-many)\n",
        "\n",
        "\n",
        "<center>\n",
        "    <img height=\"200px\" src=\"https://github.com/ssanchezgoe/flask_vscode_tutorial/blob/master/imagenes/varios-a-varios.png?raw=true\" />\n",
        "</center>\n",
        "\n",
        "\n"
      ]
    },
    {
      "cell_type": "markdown",
      "metadata": {
        "id": "W6QOwS4CAjXm",
        "colab_type": "text"
      },
      "source": [
        "##**4. Mapeo de entidades a tablas**\n",
        "\n",
        "En esta sección se expondrá como pasar de un diagrama Entidad-Relación a una tabla de una base de datos relacional compuesta por filas y columnas."
      ]
    },
    {
      "cell_type": "markdown",
      "metadata": {
        "id": "1srV9dNMYySs",
        "colab_type": "text"
      },
      "source": [
        "### **Diagramas ER**\n",
        "\n",
        "Los diagramas de Entidad-Relación representan los cimientos para construir una base de datos. En el diseño de una base de datos relacional, se debe emppesar con un diagrama ER, para luego mapearlo a tablas en una base de datos.\n",
        "\n",
        "Veamos los dos casos expuestos de las entidades Vivienda y Propietario:\n",
        "\n",
        "Entidad <br> Tabla | Atributos <br> Columnas\n",
        "-- | --\n",
        "Vivienda |- ID_Vivienda <br> - Tipo <br> - Precio <br> - Habitaciones <br> - Barrio <br> - Parqueadero <br> - Estrato <br> - Ciudad <br> - Área\n",
        "Propietario | - ID propietario <br> - Nombre <br> - Apellido <br> - e-mail <br> - País <br> - Ciudad\n",
        "\n",
        "Las dos tablas derivadas de estas dos entidades serían las siguientes\n",
        "\n",
        "- Entidad Vivienda\n",
        "\n",
        "ID_Vivienda | Tipo | Precio | Habitaciones | Barrio | Parqueadero | Estrato | Ciudad | Área\n",
        "-- | -- | -- | -- | -- | -- | -- | -- | --\n",
        "0001A| Apartamento | 280.000.000| 2 | El portal | Si | 4 | Envigado | 80 m$^2$\n",
        "0002A|Casa | 580.000.000| 4 | Usaquén | Si | 6 | Bogotá | 220 m$^2$\n",
        "0003A|Aparta Estudio | 200.000.000| 1 | Estadio | No | 5 | Medellín | 50 m$^2$\n",
        "0004A|Apartamento | 160.000.000| 2 | Aranjuez | No | 3 | Medellín | 85 m$^2$\n",
        "0005A|Casa | 770.000.000| 3 | Cedritos | Si | 6 | Bogotá | 310 m$^2$\n",
        "\n",
        "- Entidad Propietario\n",
        "\n",
        "ID Propietario | Nombre | Apellido | e-mail | País | Ciudad \n",
        "-- | -- | -- | -- | -- | -- \n",
        "00001 | Carlos| Castro | cc2@gmail.com | Colombia |  Envigado\n",
        "00002 | Adriana| Tamayo | atamayo22@outlook.com | Colombia | Bogotá\n",
        "00003 | Pedro| Parra | pp3@mailito.com | Colombia | Calí \n",
        "00004 | Isabel| Idarraga | ii3@hotmail.com |Colombia | Cartagena\n",
        "00005 | Ana| Alcántara | aa1@utp.com | Colombia | Bello\n",
        "\n"
      ]
    },
    {
      "cell_type": "markdown",
      "metadata": {
        "id": "lHdBt7LklQup",
        "colab_type": "text"
      },
      "source": [
        "##**5. Conceptos del modelo relacional**\n",
        "\n",
        "En esta sección se aboradrán los siguientes objetivos\n",
        "\n",
        "-  Definición de los términos relacionales: relación, grado y cardinalidad.\n",
        "\n",
        "- Explicación de la diferencia entre **esquema relacional** e **instancia relacional**."
      ]
    },
    {
      "cell_type": "markdown",
      "metadata": {
        "id": "cnlTyMmLuIv6",
        "colab_type": "text"
      },
      "source": [
        "### **Introducción**\n",
        "\n",
        "El modelo relacional fue propuesto por primera vez en 1970, y se basó en un modelo matemático de donde se heredaron varios términos. \n",
        "\n",
        "**Conceptos del modelo relacional:**\n",
        "\n",
        "Los bloques constitutivos (building blocks) de un modelo relacional son:\n",
        "\n",
        "- Relaciones: Una relación es un concepto que se basa en la idea de conjuntos.\n",
        "- Conjunto: Es una collección de elementos distintos sin orden, pero del mismo tipo.\n",
        "\n",
        "**Base de datos relacional:**\n",
        "\n",
        "Una **base de datos relacional** es conjunto de relaciones. La **relación** es, a su vez, un término matemático para una tabla, que es una combinación de filas y columnas. Una **relación** se divide en dos partes\n",
        "\n",
        "- Esquema relacional: Especifica el nompre de dicho esquema y los nombres y tipos de cada atributo. Por ejemplo, en el caso de la relación *Vivienda* tenemos:\n",
        "\n",
        "Atributo | Tipo\n",
        "-- | --\n",
        "Tipo| `string`\n",
        "Precio| `float`\n",
        "Habitaciones| `int`\n",
        "Barrio| `int`\n",
        "Parqueadero| `string`\n",
        "Estrato| `int`\n",
        "Ciudad| `string`\n",
        "Área |`float`\n",
        "\n",
        "- Instancia relacional: Tabla compuesta por filas y columnas\n",
        "  - Columnas $\\rightarrow$ Atributos/Campos\n",
        "  - Filas $\\rightarrow$ Tuplas\n",
        "  - Grado:  Número de atributos\n",
        "  - Cardinalidad: Número de tuplas\n",
        "\n",
        "\n",
        "<center>\n",
        "    <img height=\"250px\" src=\"https://github.com/ssanchezgoe/flask_vscode_tutorial/blob/master/imagenes/instancia_relacional.png?raw=true\n",
        "\" />\n",
        "</center>\n"
      ]
    },
    {
      "cell_type": "markdown",
      "metadata": {
        "id": "AebTHOB45xGW",
        "colab_type": "text"
      },
      "source": [
        "# **B. Restricciones del modelo relacional y Objetos de Datos**\n",
        "\n",
        "A lo largo de esta sección se cubrirán los dos siguientes temas:\n",
        "\n",
        "- Introducción a las restricciones del modelo relacional.\n",
        "- Restricciones del modelo relacional avanzadas."
      ]
    },
    {
      "cell_type": "markdown",
      "metadata": {
        "id": "ET4tohvuG79A",
        "colab_type": "text"
      },
      "source": [
        "## **1. Introducción a las restricciones del modelo relacional**\n",
        "\n",
        "En esta subsección se estudiarán los siguientes tópicos:\n",
        "\n",
        "- Explicación de las referencias.\n",
        "- Diferencias entre clave primaria y clave foranea.\n",
        "- Identificación de una tabla padre y tabla dependiente."
      ]
    },
    {
      "cell_type": "markdown",
      "metadata": {
        "id": "00E_w10CH26z",
        "colab_type": "text"
      },
      "source": [
        "<p><a name=\"referencias\"></a></p>\n",
        "\n",
        "###**Referencias**\n",
        "\n",
        "Dentro de cualquier negocio, los datos deben cumplir con ciertas restricciones o reglas. \n",
        "\n",
        "\n",
        "En esta subsección, nos remitiremos al ejempo de **Vivienda** y **Propietario**. En una relación uno a uno se vió que una **Vivienda** le corresponde a solo un **Propietario**. Para buscar la información del **Propietario**, la entidad **Vivienda** se refiere a la entidad **Propietario**. Para buscar la información de **Vivienda**, la entidad **Propietario** se refiere a la entidad **Vivienda**; en un modelo de datos relacionales, a esto se le conoce como referencia. En las bases de datos relacionales, esto establece la integridad de los datos entre dos relaciones.\n",
        "\n",
        "\n",
        "\n",
        "<center>\n",
        "    <img height=\"250px\" src=\"https://github.com/ssanchezgoe/flask_vscode_tutorial/blob/master/imagenes/referenciacion.png?raw=true\n",
        "\" />\n",
        "</center>"
      ]
    },
    {
      "cell_type": "markdown",
      "metadata": {
        "id": "OmxCaVdOPecT",
        "colab_type": "text"
      },
      "source": [
        "###**Representación de un modelo de datos relacional en un Diagrama ER.**\n",
        "\n",
        "El diagrama de Entidad-Relación representa el modelo de datos relacionales para la entidad de **Propietario** y la entidad **Vivienda** como parte de un modelo de base de datos de una inmobiliaria simplificada. \n",
        "\n",
        "Además, se han agregado otras entidades, como Comprador, Lista_Propietario y Copia. Nótese que los atributos `ID_Propietario`, `ID_vivienda`, `ID_Comprador` e `ID_Copia`  tienen una ubicación especial que la asigna como la **clave principal**. Una **clave principal** de una tabla relacional identifica de forma única cada fila de una tabla. Nótese además que algunos atributos tienen el indicativo **FK**. Por ejemplo, la entidad `Copia` tiene el atributo `ID_vivienda` etiquetado como `FK`. `FK` nos indica una **clave externa**, que corresponde a un conjunto de columnas que hacen referencia a una **clave primaria** de otra tabla. Estas entidades son parte del conjunto de relaciones entre las entidades por arriba de ellas. Todas las entidades tienen una relación de uno a varios establecida entre ellas.\n",
        "\n",
        "\n",
        "<center>\n",
        "    <img height=\"500px\" src=\"https://github.com/ssanchezgoe/flask_vscode_tutorial/blob/master/imagenes/ERC_claves.png?raw=true\n",
        "\" />\n",
        "</center>\n",
        "\n"
      ]
    },
    {
      "cell_type": "markdown",
      "metadata": {
        "id": "9GX20CEUZxB_",
        "colab_type": "text"
      },
      "source": [
        "###**Terminología del modelo relacional**\n",
        "\n",
        "Alguna terminología relacionada con el esquema anterior es la siguiente:\n",
        "\n",
        "- Tabla padre: Una tabla que contienen una **clave primaria** que se realaciona con al menos una **clave foránea** se le conoce como **tabla padre**. En el caso de la inmobiliaria, las tablas de **Vivienda** y **Propietario** son tablas padres. \n",
        "- Tabla dependiente: Una tabla que posee al menos una **clave foránea** se le conoce como **tabla dependiente** o **tabla hijo**. En ERD anterior, las tablas `Lista_propietario` y `Copia` son tablas dependientes."
      ]
    },
    {
      "cell_type": "markdown",
      "metadata": {
        "id": "LnxAy5HJs6e5",
        "colab_type": "text"
      },
      "source": [
        "##**2. Restricciones avanzadas al modelo relacional**\n",
        "\n",
        "En esta subsección se abarcarán los siguientes tópicos:\n",
        "\n",
        "- Seis restricciones en el modelo relacional de bases de datos.\n",
        "\n",
        "- Descripción de diferentes tipos de restricciones del modelo relacional."
      ]
    },
    {
      "cell_type": "markdown",
      "metadata": {
        "id": "4vHqmALbu18k",
        "colab_type": "text"
      },
      "source": [
        "###**Restricciones**\n",
        "\n",
        "Dentro de cualquier negocio, los datos deben seguir ciertas reglas o restricciones. Las **restricciones** facilitan en un negocio la implementación de reglas para preservar correctamente los datos. En un modelo relacional de datos, la integridad de estos puede alcanzarse al usar reglas y restricciones. Las siguientes seis restricciones se definen en un modelo de bases de datos relacional:\n",
        "\n",
        "- Restricción a la **Integridada de la Entidad**\n",
        "- Restricción a la **Integridad Referencial**\n",
        "- Restricción a la **Integridad Semántica**\n",
        "- Restricción al **Dominio**\n",
        "- Restricción de **`Null`**\n",
        "- Restricción de **Revisión**"
      ]
    },
    {
      "cell_type": "markdown",
      "metadata": {
        "id": "NAJ0xMy9zAjo",
        "colab_type": "text"
      },
      "source": [
        "####**Restricción a la Integridad de la Entidad**\n",
        "\n",
        "Para identificar cada tupla en una relación, la relación debe contener una **clave primaria** `[FK]`. La **clave primaria** es un valor único que identifica cada tupla o fila en la tabla. A esta restricción la conocemos como **Restricción a la Integridad de la Entidad**; también puede usarse el término **Restricción a la clave primaria**  o **Restricción Única**. El objetivo de esta restricción es evitar valores duplicados en la tabla. Para implementar estas retricciones, se deben usar índices. \n",
        "\n",
        "La restricción a la integridad de la entidad establece que ningún atributo que haga parte de la clave primaria de una relación puede tener por valor un `NULL`. El valor `Null` nos indica que no conocemos el valor almacenado. En la restricción a la integridad de la entidad, la **clave primaria** no puede tener un valor desconocido. Por ejemplo, en la siguiente relación, correspondiente a la `Vivienda`, `ID_Vivienda` repreenta la clave primaria e identifica cada tupla de la relación. En este caso, `ID_Vivienda 0001A` apunta a un apartamento en el Portal, Envigado. Sin embargo, Si hacemos nulo a  `ID_Vivienda 0001A`, aún se podrá identificar la vivienda en el Portal, Envigado. Sin embargo, si hacemos `ID_Vivienda 0005A` nula también, no sabremos identificar a qué tupla le correponde qué valor nulo. Con la restricción a la integridad de la entidad, los atributos que hacen parte de la clave primaria pueden aceptar valores de ID nulos. \n",
        " \n",
        "<font color='red'>ID_Vivienda [FK]</font> | <font color='red'>Tipo</font> | <font color='red'>Precio</font> | <font color='red'>Habitaciones</font> | <font color='red'>Barrio</font> | <font color='red'>Parqueadero</font> | <font color='red'>Estrato</font> | <font color='red'>Ciudad</font> | <font color='red'>Área</font>\n",
        "-- | -- | -- | -- | -- | -- | -- | -- | --\n",
        "0001A| Apartamento | 280.000.000| 2 | El portal | Si | 4 | Envigado | 80 m$^2$\n",
        "0002A|Casa | 580.000.000| 4 | Usaquén | Si | 6 | Bogotá | 220 m$^2$\n",
        "0003A|Aparta Estudio | 200.000.000| 1 | Estadio | No | 5 | Medellín | 50 m$^2$\n",
        "0004A|Apartamento | 160.000.000| 2 | Aranjuez | No | 3 | Medellín | 85 m$^2$\n",
        "0005A|Casa | 770.000.000| 3 | Cedritos | Si | 6 | Bogotá | 310 m$^2$"
      ]
    },
    {
      "cell_type": "markdown",
      "metadata": {
        "id": "AZS0c-Ju4f8E",
        "colab_type": "text"
      },
      "source": [
        "####**Restricción a la integridad referencial**\n",
        "\n",
        "La **Restricción a la integridad referencial** define relaciones entre tablas, asegurándose que estas relaciones permanezcan válidas. La validez de un datos es reforzada usando una combinación de claves primarias y claves foráneas. Como se mencionó en la sección de [referencias](#referencias), para que una vivienda pueda existir, se necesita de al menos un propietario."
      ]
    },
    {
      "cell_type": "markdown",
      "metadata": {
        "id": "xCCQEnPw-3Vj",
        "colab_type": "text"
      },
      "source": [
        "####**Restricción a la Integridad Semántica**\n",
        "\n",
        "La **Restricción a la Integridad Semántica**, hace referencia a la exactitud del significado de los datos. Por ejemplo, si en atributo (columna) ciudad de la tabla `Propietario`, se encontrara un valor sin sentido, la restricción a la integridad semántica nos impone revisar su validez.\n",
        "\n",
        "ID Propietario | Nombre | Apellido | e-mail | País | Ciudad \n",
        "-- | -- | -- | -- | -- | -- \n",
        "00001 | Carlos| Castro | cc2@gmail.com | Colombia | <font color='red'>**$GfasFD**</font> \n",
        "00002 | Adriana| Tamayo | atamayo22@outlook.com | Colombia | Bogotá\n",
        "00003 | Pedro| Parra | pp3@mailito.com | Colombia | Calí \n",
        "00004 | Isabel| Idarraga | ii3@hotmail.com |Colombia | Cartagena\n",
        "00005 | Ana| Alcántara | aa1@utp.com | Colombia | Bello"
      ]
    },
    {
      "cell_type": "markdown",
      "metadata": {
        "id": "jJN7mXMTAXky",
        "colab_type": "text"
      },
      "source": [
        "####**Restricción al Dominio**\n",
        "\n",
        "La **Restricción al Dominio** especifica el tipo de dato que debe contener una columna. Por ejemplo, en la relación `Vivienda`, las ciudades son identificadas con nombres; si en algunas entradas tuviésemos un valor numérico, éste carecería de sentido.\n",
        "\n",
        "ID_Vivienda | Tipo | Precio | Habitaciones | Barrio | Parqueadero | Estrato | Ciudad | Área\n",
        "-- | -- | -- | -- | -- | -- | -- | -- | --\n",
        "0001A| Apartamento | 280.000.000| 2 | El portal | Si | 4 | Envigado | 80 m$^2$\n",
        "0002A|Casa | 580.000.000| 4 | Usaquén | Si | 6 | <font color='red'>**34**</font> | 220 m$^2$\n",
        "0003A|Aparta Estudio | 200.000.000| 1 | Estadio | No | 5 | Medellín | 50 m$^2$\n",
        "0004A|Apartamento | 160.000.000| 2 | Aranjuez | No | 3 | Medellín | 85 m$^2$\n",
        "0005A|Casa | 770.000.000| 3 | Cedritos | Si | 6 | Bogotá | 310 m$^2$\n",
        "\n",
        "**Nota:** Las restricciones de **Semántica** y **Dominio** son similares, no obstante, la primera nos indica si un valor almacenado tiene signifido o nó, mientras que la segunda nos indica si el tipo del dato almacenado es correcto."
      ]
    },
    {
      "cell_type": "markdown",
      "metadata": {
        "id": "Shb7P6VaBnWh",
        "colab_type": "text"
      },
      "source": [
        "####**Restricción de `Null`**\n",
        "\n",
        "La restricción de `Null` establece que ningún atributo debe aceptar valores `Null` o vacios. Por ejemplo, si en la entidad `Propietario` alguno de los atributos de `Nombre` o `Apellido` contienen valores nulos, sería difícil identificar al propietario de un inmueble.\n",
        "\n",
        "ID Propietario | Nombre | Apellido | e-mail | País | Ciudad \n",
        "-- | -- | -- | -- | -- | -- \n",
        "00001 |  <font color='red'>**Null**</font>| Castro | cc2@gmail.com | Colombia | Envigado \n",
        "00002 | Adriana|  <font color='red'>**Null**</font>  | atamayo22@outlook.com | Colombia | Bogotá\n",
        "00003 | Pedro| Parra | pp3@mailito.com | Colombia | Calí \n",
        "00004 | Isabel| Idarraga | ii3@hotmail.com |Colombia | Cartagena\n",
        "00005 | Ana| Alcántara | aa1@utp.com | Colombia | Bello\n",
        "\n",
        "En este sentido, un propietario no podría tener valores nulos en su nombre o apellido."
      ]
    },
    {
      "cell_type": "markdown",
      "metadata": {
        "id": "yZEskF-qDNqO",
        "colab_type": "text"
      },
      "source": [
        "####**Restricción de Revisión**\n",
        "\n",
        "La **Restricción de Revisión** (Check) refuerza la **integridad de dominio** al limitar los valores que acepta el atributo. En la relación `Vivienda`, el atributo `Estrato` tiene, en Colombia, un valor entero entre 1 y 6; en caso de tener un valor diferente, no tendría sentido. La restricción de revisión impondría a la integridad del dominio una limitación en los valores, **aceptando solo ciertos valores**.\n",
        "\n",
        "\n",
        "ID_Vivienda | Tipo | Precio | Habitaciones | Barrio | Parqueadero | Estrato | Ciudad | Área\n",
        "-- | -- | -- | -- | -- | -- | -- | -- | --\n",
        "0001A| Apartamento | 280.000.000| 2 | El portal | Si | 4 | Envigado | 80 m$^2$\n",
        "0002A|Casa | 580.000.000| 4 | Usaquén | Si | 6 | Bogotá | 220 m$^2$\n",
        "0003A|Aparta Estudio | 200.000.000| 1 | Estadio | No | <font color='red'>**8**</font> | Medellín | 50 m$^2$\n",
        "0004A|Apartamento | 160.000.000| 2 | Aranjuez | No | 3 | Medellín | 85 m$^2$\n",
        "0005A|Casa | 770.000.000| 3 | Cedritos | Si | 6 | Bogotá | 310 m$^2$"
      ]
    },
    {
      "cell_type": "markdown",
      "metadata": {
        "id": "8zO0U1xlFj6z",
        "colab_type": "text"
      },
      "source": [
        "####**Información adicional**\n",
        "\n",
        "Additional Information\n",
        "This section gives more detailed explanation about concepts that were not covered in the videos in this module.\n",
        " \n",
        "\n",
        "**Primary Keys**\n",
        "\n",
        "If a relation schema has more than one key, then each key is called a candidate key.One of the candidate keys is designated as the primary key, and the others are called secondary keys.\n",
        "\n",
        "In a practical relational database, each relation schema must have a primary key.\n",
        "\n",
        "**Rules for primary keys:**\n",
        "\n",
        "The value of the Primary Key must be unique for each instance of the entity.\n",
        "\n",
        "- There can be no missing values( ie. Not Null) for Primary Keys. If the Primary Key is composed of multiple attributes, each of those attributes must have a value for each instance.\n",
        "- The Primary Key is immutable.i.e., once created the value of the Primary Key cannot be changed.\n",
        "- If the Primary Key consists of multiple attributes, none of these values can be updated.\n",
        " \n",
        "\n",
        "**Semantic Integrity**\n",
        "\n",
        "Semantic integrity ensures that data entered into a row reflects an allowable value for that row. The value must be within the domain, or allowable set of values, for that column. For example, the quantity column of the items table permits only numbers. If a value outside the domain can be entered into a column, the semantic integrity of the data is violated.\n",
        "\n",
        " \n",
        "\n",
        "**Semantic Constraints**\n",
        "\n",
        "Semantic Constraints are constraints that cannot be directly expressed in the schemas of the data model. Semantic constraints are also called application-based rules or business rules.  They are additional rules specified by users or database administrators. For example, a class can have a maximum of 30 students; salary of an employee cannot exceed the salary of the employee’s manager.\n",
        "\n",
        "Domain constraints specify that within a tuple the value of each attribute must be an element from the domain of that attribute. The data types associated with the domains include:\n",
        "\n",
        "- Integers (short integer, integer, long integer)\n",
        "- Real numbers (float and double precision float)\n",
        "- Characters\n",
        "- Booleans\n",
        "- Fixed-length strings and variable length strings\n",
        "- Date, time, timestamp\n",
        "- Money\n",
        "- Other special data types\n",
        "\n",
        "Other possible domain values may be a sub-range of values from a data type or as an enumerated data type in which values are explicitly listed."
      ]
    },
    {
      "cell_type": "markdown",
      "metadata": {
        "id": "vFPwKZWrKvHE",
        "colab_type": "text"
      },
      "source": [
        "#**C. Lenguaje de Definición de Datos (DDL) y Lenguaje de Manipulación de Datos (DML)**\n",
        "\n",
        "Los tópicos, relacionados sentencias, trabajados durantes esta sección serán:\n",
        "\n",
        "- Sentencia de creación de una tabla (Create)\n",
        "- Sentencia de Inserción en una tabla (Insert)\n",
        "- Sentencia de selección en una tabla (Select)\n",
        "- Sentencias de actualización y eliminación (Update y Delete)"
      ]
    },
    {
      "cell_type": "markdown",
      "metadata": {
        "id": "cODeVuGpNJFf",
        "colab_type": "text"
      },
      "source": [
        "##**Introducción**\n",
        "\n",
        "Para la mayoría de la comunidad que hace uso de las bases de datos, existe 5 sentencias primordiales para operar con bases datos:\n",
        "\n",
        "- **Creación** de una tabla\n",
        "- **Inserción** de datos en una tabla\n",
        "- **Selección** de datos de una tabla\n",
        "- **Actualización** de datos de una tabla\n",
        "- **Eliminación** de datos de una tabla\n",
        "\n",
        "En referencia a esto, existen dos Lenguajes relacionados con las bases de datos:\n",
        "\n",
        "- Lenguaje de Definición de Datos (DDL - Data Language Definition): Se usan para definir, cambiar o eliminar datos. Los DDL tienen como función principal la creación de objetos de bases de datos. \n",
        "- Lenguaje de Manipulación de Datos (DML - Data Managment Definition): Se usa para leer y modificar datos.\n"
      ]
    },
    {
      "cell_type": "markdown",
      "metadata": {
        "id": "F3Qh3_yaLuLM",
        "colab_type": "text"
      },
      "source": [
        "##**Sentencia Create: Creación de tablas**\n",
        "\n",
        "En esta sección se aprendera a:\n",
        "\n",
        "- Explicar cómo los nombres de las entidades y los atributos son usados en una tabla de bases de datos relacionales."
      ]
    },
    {
      "cell_type": "markdown",
      "metadata": {
        "id": "uaMWl6eING9i",
        "colab_type": "text"
      },
      "source": [
        "##**Creación de una tabla**\n",
        "\n",
        "Como se ha mencionado en varias ocasiones, en una base de datos relacional, los datos son organizados en tablas, formadas por filas y colomnas. Basándonos en el ejemplo de las entidades `Vivienda` y `Propietario`, creamos una tabla usando el nombre de la entidad. Los atributos de la entidad serán las columnas de las tablas. \n",
        "\n",
        "Si usamos como ejemplo al propietario, se empieza por crear la tabla `Propietario` y se asigna los tipos de datos a los atributos de la tabla. En SQL, la creación de una tabla seria de la forma\n",
        "\n",
        "\n",
        "\n",
        "```\n",
        "#Creación tabla Propietario\n",
        "CREATE TABLE Propietario (\n",
        "    ID_propietario CHAR(5) CONSTRAINT PROPIETARIO_PK PRIMARY KEY (Propietario_id) NOT NULL,\n",
        "    Nombre VARCHAR(15) NOT NULL,\n",
        "    Apellido VARCHAR(15) NOT NULL,\n",
        "    e-mail VARCHAR(15),\n",
        "    Pais VARCHAR(15),\n",
        "    Ciudad VARCHAR(15)\n",
        "   ....\n",
        ");\n",
        "```\n",
        "\n",
        "La sentencia `CREATE TABLE` pertenecen a las instrucciones DDL.  \n",
        "\n",
        "En la creación se debe tener en cuenta que `ID_Propietario` es la **clave primaria**. Esta restricción evita valores duplicados en la tabla. \n",
        "\n",
        "Por otro lado, de la tabla `Propietario`\n",
        "\n",
        "ID_Propietario | Nombre | Apellido | e-mail | País | Ciudad \n",
        "-- | -- | -- | -- | -- | -- \n",
        "00001 | Carlos| Castro | cc2@gmail.com | Colombia |  Envigado\n",
        "00002 | Adriana| Tamayo | atamayo22@outlook.com | Colombia | Bogotá\n",
        "00003 | Pedro| Parra | pp3@mailito.com | Colombia | Calí \n",
        "00004 | Isabel| Idarraga | ii3@hotmail.com |Colombia | Cartagena\n",
        "00005 | Ana| Alcántara | aa1@utp.com | Colombia | Bello\n",
        "\n",
        "los tipos de cada atributo, serían:\n",
        "\n",
        "- `ID_Propietario`: `Char`\n",
        "- `Nombre`: `VARCHAR`\n",
        "- `Apellido`: `VARCHAR`\n",
        "- `e-mail`: `int`\n",
        "- `País`: `VARCHAR`\n",
        "- `Ciudad`: `VARCHAR`\n",
        "\n",
        "Tenga en cuena que los atributos de `Nombre` y `Apellido` deben tener restricción de no `NULL`, para asegurar que no contenga datos nulos: Todo propietario debe tener Nombre y Apellido."
      ]
    },
    {
      "cell_type": "markdown",
      "metadata": {
        "id": "jiY_DVpR2a09",
        "colab_type": "text"
      },
      "source": [
        "##**Sentencia INSERT**\n",
        "\n",
        "En esta sesión el estudiante desarrollará las siguientes habilidades\n",
        "\n",
        "- Identificar la sintaxis relacionada con la sentencia INSERT.\n",
        "- Explicar los dos métodos para insertar filas y columnas en una tabla"
      ]
    },
    {
      "cell_type": "markdown",
      "metadata": {
        "id": "TnkF13Ue9G1L",
        "colab_type": "text"
      },
      "source": [
        "###**Adición de filas a una tabla**\n",
        "\n",
        "Después de que una tabla se crea, necesitaremos rellenar la tabla con datos. Para este fin, usamos la sentencia `INSERT`, con el fin de adicionar nuebas filas. LA sentencia INSERT hace parte del *Lenguaje de Manipulación de Datos* - DML (las sentencias DML se usan para leer y modificar los datos).\n",
        "\n",
        "Retomando el ejemplo de la entidad `Propietario`, empezamos por crear dicha entidad usando el nombre de la relación (`Propietario`), y los atributos de la tabla como columnas (`ID_Propietario`, `Nombre`, `Apellido`, `email`, `Pais` y `Ciudad`). El siguiente paso es la adición de entradas o filas a la tabla, mediante la sentencia `INSERT` mediante la siguiente sintaxis\n",
        "\n",
        "\n",
        "\n",
        "```\n",
        "INSERT INTO table_name (column1, column2, column3, ...)\n",
        "VALUES (value1, value2, value3, ...)\n",
        "```\n",
        "\n",
        "Por ejemplo, para insertar la primera fila de la relación `Propietario`\n",
        "\n",
        "ID_Propietario | Nombre | Apellido | e-mail | País | Ciudad \n",
        "-- | -- | -- | -- | -- | -- \n",
        "00001 | Carlos| Castro | cc2@gmail.com | Colombia |  Envigado\n",
        "00002 | Adriana| Tamayo | atamayo22@outlook.com | Colombia | Bogotá\n",
        "00003 | Pedro| Parra | pp3@mailito.com | Colombia | Calí \n",
        "00004 | Isabel| Idarraga | ii3@hotmail.com |Colombia | Cartagena\n",
        "00005 | Ana| Alcántara | aa1@utp.com | Colombia | Bello\n",
        "\n",
        "Escribiríamos lo  en SQL:\n",
        "\n",
        "\n",
        "```\n",
        "INSERT INTO Propietario (ID_Propietario, Nombre, Apellido, e-mail, Pais, Ciudad)\n",
        "VALUES ('0001', 'Carlos', 'Castro', 'cc2@gmail.com', 'Colombia', 'Envigado')\n",
        "```\n",
        "\n",
        "Para rellenar una tabla, no es necesario hacerlo una fila por vez, en su lugar podemos escribir\n",
        "\n",
        "```\n",
        "INSERT INTO Propietario \n",
        "(ID_Propietario, Nombre, Apellido, e-mail, Pais, Ciudad)\n",
        "VALUES \n",
        "('0001', 'Carlos', 'Castro', 'cc2@gmail.com', 'Colombia',  ' Envigado')\n",
        "('00002', 'Adriana', 'Tamayo', 'atamayo22@outlook.com', 'Colombia', 'Bogota')\n",
        "\n",
        "```\n",
        "\n"
      ]
    },
    {
      "cell_type": "markdown",
      "metadata": {
        "id": "4Z2QwUCbC6Eq",
        "colab_type": "text"
      },
      "source": [
        "##**Sentencia `SELECT`**\n",
        "\n",
        "Al finalizar esta sección, se adquirirán las siguientes competencias:\n",
        "\n",
        "- Recuperación de datos de una tabla de una base de datos relacional.\n",
        "- Definición del uso de un predicado.\n",
        "- Identificación de la sintaxis de la sentencia `SELECT`, usando la clausula `WHERE`.\n",
        "- Lista de los operadores de comparación soportados por un Sistema de manejo de una base de datos relacional (RDBMS)."
      ]
    },
    {
      "cell_type": "markdown",
      "metadata": {
        "id": "HzOda29gHCfn",
        "colab_type": "text"
      },
      "source": [
        "###**Introducción**\n",
        "\n",
        "El proposito principal de un sistema de manipulación de datos, no solo consite en guardar datos, sino también facilitar la recuperación de los mismo. \n",
        "\n",
        "Después de crear una tabla e insertar datos en ella, lo siguiente sería recuperar los datos. Para este fin usamos la sentencia `SELECT`, que hace parte del Lenguaje de manipulación de Datos (DML), usaado para la lectura y modificación de los mismos.\n",
        "\n",
        "La sentencia `SELECT` se conoce como consulta (query), y la salida que se obtiene de un query se llama Resultado (Result) o Resultado de la tabla (Result Table)"
      ]
    },
    {
      "cell_type": "markdown",
      "metadata": {
        "id": "-5J2WvNuGeoI",
        "colab_type": "text"
      },
      "source": [
        "###**Recuperación de filas de una tabla**\n",
        "\n",
        "En su forma más sencilla, usamos la sentencia `SELECT` de la siguiente forma:\n",
        "\n",
        "```\n",
        "SELECT * FROM table_name;\n",
        "```\n",
        "\n",
        "Si nos remitimos al ejemplo de propietarios de inmuebles, las filas de la entidad `Propietario`\n",
        "\n",
        "ID_Propietario | Nombre | Apellido | e-mail | País | Ciudad \n",
        "-- | -- | -- | -- | -- | -- \n",
        "00001 | Carlos| Castro | cc2@gmail.com | Colombia |  Envigado\n",
        "00002 | Adriana| Tamayo | atamayo22@outlook.com | Colombia | Bogotá\n",
        "00003 | Pedro| Parra | pp3@mailito.com | Colombia | Calí \n",
        "00004 | Isabel| Idarraga | ii3@hotmail.com |Colombia | Cartagena\n",
        "00005 | Ana| Alcántara | aa1@utp.com | Colombia | Bello\n",
        "\n",
        "\n",
        "Pueden recuperarse todas mediante la siguiente instrucción\n",
        "\n",
        "```\n",
        "SELECT * FROM Propietario;\n",
        "```\n",
        "\n",
        "Adicionalmente, se puede recuperar todas las filas de unas cuantas columnas al especificar los nombres de las columnas de forma individual y separadas por comas:\n",
        "\n",
        "\n",
        "```\n",
        "SELECT Nombre, Apellido, Ciudad from Propietario;\n",
        "```\n",
        "\n",
        "\n"
      ]
    },
    {
      "cell_type": "markdown",
      "metadata": {
        "id": "vPPnT7qGHFEg",
        "colab_type": "text"
      },
      "source": [
        "##**Restricción del resultado de un conjunto: Clausula `WHERE`**\n",
        "\n",
        "Las operaciones relacionales nos ayudan a restringir los resultados de un conjunto mediante el uso de la clausula `WHERE`. Esta clausula siempre requiere un predicado, que corresponde a una condición cuyo valor es un booleano `True`, `False` o incierto. Los predicados son usados en la condición de la busqueda de la clausula `WHERE`. \n",
        "\n",
        "\n",
        "Consideremos, por ejemplo, la entidad `Vivienda` como la tabla\n",
        "\n",
        "ID_Vivienda | Tipo | Precio | Habitaciones | Barrio | Parqueadero | Estrato | Ciudad | Área\n",
        "-- | -- | -- | -- | -- | -- | -- | -- | --\n",
        "0001A| Apartamento | 280.000.000| 2 | El portal | Si | 4 | Envigado | 80 m$^2$\n",
        "0002A|Casa | 580.000.000| 4 | Usaquén | Si | 6 | Bogotá | 220 m$^2$\n",
        "0003A|Aparta Estudio | 200.000.000| 1 | Estadio | No | 4 | Medellín | 50 m$^2$\n",
        "0004A|Apartamento | 160.000.000| 2 | Aranjuez | No | 3 | Medellín | 85 m$^2$\n",
        "0005A|Casa | 770.000.000| 3 | Cedritos | Si | 6 | Bogotá | 310 m$^2$\n",
        "\n",
        "Si queremos saber el tipo de vivienda con un `ID_Vivienda` igual a `0002A`, usamos la clausula `WHERE`, con el predicado `ID_Vivienda` igual a `0002A`\n",
        "\n",
        "```\n",
        "SELECT ID_Vivienda, Tipo FROM Vivienda\n",
        "WHERE ID_Vivienda='0002A'; \n",
        "```"
      ]
    },
    {
      "cell_type": "markdown",
      "metadata": {
        "id": "MmDJx1VsndKc",
        "colab_type": "text"
      },
      "source": [
        "###**Operadores de Comparación:**\n",
        "\n",
        "En el ejemplo anterior se usó el operador \"igual a\" en la clausula `WHERE`. Los operadores que admite esta clasula se resumentn en la siguiente tabla\n",
        "\n",
        "Nombre | Operador\n",
        "---|---\n",
        "Igual a | `=`\n",
        "Mayor a | `>`\n",
        "Menor a | `<`\n",
        "Mayor o igual a | `>=`\n",
        "Menor o igual a | `<=`\n",
        "No igual a | `<>`"
      ]
    },
    {
      "cell_type": "markdown",
      "metadata": {
        "id": "JUsHnR4poxGF",
        "colab_type": "text"
      },
      "source": [
        "##**Sentencias `UPDATE` y `DELETE`**\n",
        "\n",
        "En esta sección se aprenderá de los siguientes tópicos:\n",
        "\n",
        "- Identificación de la sintaxis de la sentencia `UPDATE`\n",
        "- Identificación de la sintaxis de la sentencia `DELETE`\n",
        "- Explicación de la importancia de la clausula `WHERE` en las sentencias `UPDATE` y `DELETE`."
      ]
    },
    {
      "cell_type": "markdown",
      "metadata": {
        "id": "4HYwJLHbtB5P",
        "colab_type": "text"
      },
      "source": [
        "###**Sentencia `UPDATE`**\n",
        "\n",
        "Despues de crearse y rellenarse con datos una tabla, esta puede ser alterada mediante la sentencia `UPDATE`, que hace parte del Lenguaje de manejo de datos (DML), encargado de leer y modificar los datos. \n",
        "\n",
        "```\n",
        "UPDATE table_name\n",
        "SET column1 = value1, column2 = value2, ...\n",
        "WHERE condition;\n",
        "```\n",
        "\n",
        "Partamos del ejemplo de la identidad `Propietario`, correspondiente a la siguiente tabla:\n",
        "\n",
        "ID_Propietario | Nombre | Apellido | e-mail | País | Ciudad \n",
        "-- | -- | -- | -- | -- | -- \n",
        "00001 | Carlos| Castro | cc2@gmail.com | Colombia |  Envigado\n",
        "00002 | Adriana| Tamayo | atamayo22@outlook.com | Colombia | Bogotá\n",
        "00003 | Pedro| Parra | pp3@mailito.com | Colombia | Calí \n",
        "00004 | Isabel| Idarraga | ii3@hotmail.com |Colombia | Cartagena\n",
        "00005 | Ana| Alcántara | aa1@utp.com | Colombia | Bello\n",
        "\n",
        "Supongamos que queremos cambiar el nombre y apellido de la propietario con ID 00003 por Belina Bedoya; debemos hacer entonces \n",
        "\n",
        "```\n",
        "UPDATE Propietario\n",
        "SET Nombre = 'Belinda', Apellido= 'Bedoya'\n",
        "WHERE CustomerID = 0003;\n",
        "```\n"
      ]
    },
    {
      "cell_type": "markdown",
      "metadata": {
        "id": "G9rJl6dyy56V",
        "colab_type": "text"
      },
      "source": [
        "###**Sentencia DELETE**\n",
        "\n",
        "Si un momento queremos eliminar una entrada de la tabla, debemos usar la sentencia `DELETE` de la forma siguiente:\n",
        "\n",
        "```\n",
        "DELETE FROM table_name WHERE condition;\n",
        "```\n",
        "\n",
        "Retomemos el ejemplo de la entidad `Propietario`. Supongamos que por algún motivo, los propietario con `ID_Propietario=0004` e `ID_Propietario=0005` ya vendieron sus inmuebles, por lo que debemos quitarlos de la base de datos. Para esto, realizamos lo siguiente\n",
        "\n",
        "```\n",
        "DELETE FROM Propietario\n",
        "WHERE Propietario IN('0004','0005')\n",
        "```"
      ]
    },
    {
      "cell_type": "markdown",
      "metadata": {
        "id": "MruKTub83DcR",
        "colab_type": "text"
      },
      "source": [
        "##**Información adicional**\n",
        "\n",
        "This section gives more detailed explanation about concepts that were not covered in the videos in this module.\n",
        "\n",
        "**Create Schema**\n",
        "\n",
        "A SQL schema is identified by a schema name, and includes a authorization identifier to indicate the user or account who owns the schema. Schema elements include tables, constraints, views, domains and other constructs that describe the schema.\n",
        "\n",
        "A schema is created using the `CREATE SCHEMA` statement. For example, we can create a schema called LIBRARY for this course:\n",
        "\n",
        "``` \n",
        "CREATE SCHEMA LIBRARY AUTHORIZATION ‘Robert’\n",
        "```\n",
        "\n",
        "The data types used can be: numeric, character-string, bit-string, Boolean, DATE, timestamp, etc.\n",
        " \n",
        "\n",
        "**CREATE TABLE Statement**\n",
        "\n",
        "The `CREATE TABLE` statement includes these clauses:\n",
        "\n",
        "- `DEFAULT`\n",
        "- `CHECK`\n",
        "\n",
        "Use the `DEFAULT` clause in the `CREATE TABLE` statement to specify the default value for the database server to insert into a column when no explicit value for the column is specified.\n",
        "\n",
        "This syntax fragment is part of the Column definition.\n",
        "\n",
        "```\n",
        "DEFAULT Clause\n",
        "\n",
        "|--DEFAULT------------------------------------------------------>\n",
        "\n",
        ">--+-+-NULL---------+--------------------------------------------+--|\n",
        "   | +-label--------+                                            |   \n",
        "   | +-literal------+                                            |   \n",
        "   | +-USER---------+                                            |   \n",
        "   | '-CURRENT_USER-'                                            |   \n",
        "   |  (1)                                                        |   \n",
        "   '-------+-+-CURRENT-+--+----------------------------------+-+-'   \n",
        "           | '-SYSDATE-'  |                              (2) | |     \n",
        "           |              '-| DATETIME Field Qualifier |-----' |     \n",
        "           +-TODAY---------------------------------------------+     \n",
        "           +-SITENAME------------------------------------------+     \n",
        "           '-DBSERVERNAME--------------------------------------'   \n",
        "\n",
        "```          \n",
        "\n",
        "Use the `CHECK` clause to designate conditions that must be met before data can be assigned to a column during an `INSERT` or `UPDATE` statement.\n",
        "\n",
        "This syntax fragment is part of the Single-Column Constraint Format and the Multiple-Column Constraint Format.\n",
        "\n",
        "```\n",
        "CHECK Clause\n",
        "\n",
        "                           (1)      \n",
        "|--CHECK--(--| Condition |------)-------------------------------|\n",
        "```\n",
        "\n",
        "**Notes:** \n",
        "\n",
        "See Condition\n",
        "\n",
        "The condition cannot include a user-defined routine.\n",
        "\n",
        "During an insert or update, if the check constraint of a row evaluates to false, the database server returns an error. The database server does not return an error if a row evaluates to NULL for a check constraint. In some cases, you might want to use both a check constraint and a NOT NULL constraint.\n",
        "\n",
        "**Condition**\n",
        "\n",
        "Use a condition to test whether data meets certain qualifications. Use this segment wherever you see a reference to a condition in a syntax diagram.\n",
        "\n",
        "```\n",
        "Condition\n",
        "\n",
        "   .-Logical_Operator-----------------------------.   \n",
        "   V                                      (1)     |   \n",
        "|----+-----+--+-| Comparison Conditions |-------+-+-------------|\n",
        "     '-NOT-'  |                             (2) |     \n",
        "              +-| Condition with Subquery |-----+     \n",
        "              |                           (3)   |     \n",
        "              '-| User-Defined Function |-------'     \n",
        "```\n",
        "\n",
        "**SELECT Statement**\n",
        "\n",
        "The basic structure of the SELECT statement is formed from three clauses: SELECT, FROM and WHERE.\n",
        "- `<attribute list>` is a list of attribute names whose values are to be retrieved by the query \n",
        "- `<table list>` is a list of the relation names required to process the query\n",
        "-`<condition>` is a conditional(Boolean) expression that identifies the tuples to be retrieved by the query\n",
        "\n",
        "In situations where you might want to use multiple IF-THEN-ELSE statements, you can often use a single SELECT statement instead. The SELECT statement allows a CLIST to select actions from a list of possible actions. An action consists of one or more statements or commands. The SELECT statement has the following syntax, ending with the END statement. You can use the SELECT statement with or without the initial test expression.\n",
        "\n",
        "Read syntax diagramSkip visual syntax diagram\n",
        "\n",
        "```\n",
        "Select\n",
        "\n",
        "SELECT [test expression]\n",
        "\tWHEN [expression1]\n",
        "\t...\n",
        "\t\t(action)\n",
        "\t...\n",
        "\tWHEN [expression2]\n",
        "\tWHEN [expression3]\n",
        "\t...\n",
        "\t[OTHERWISE]\n",
        "\t...\n",
        "\t\t(action)\n",
        "\t...\n",
        "END\n",
        "```"
      ]
    },
    {
      "cell_type": "markdown",
      "metadata": {
        "id": "WF7mybN-t4iV",
        "colab_type": "text"
      },
      "source": [
        "##**Prácticas con `flask_sqlalchemy`**\n",
        "\n",
        "En ORM trabajaremos con modelos\n",
        "\n",
        "Para realizar alguna consulta hacemos accedemos al sitio `WEB` de la librería `flask_slqalchemy` [link](https://flask-sqlalchemy.palletsprojects.com/en/2.x/)."
      ]
    },
    {
      "cell_type": "code",
      "metadata": {
        "id": "iVxLZIbn9sjP",
        "colab_type": "code",
        "colab": {
          "base_uri": "https://localhost:8080/",
          "height": 383
        },
        "outputId": "aa760b6e-ff8e-4f09-ad1f-c8c1d13cc005"
      },
      "source": [
        "!pip install flask_sqlalchemy\n",
        "!pip install flask_ngrok"
      ],
      "execution_count": 22,
      "outputs": [
        {
          "output_type": "stream",
          "text": [
            "Requirement already satisfied: flask_sqlalchemy in /usr/local/lib/python3.6/dist-packages (2.4.4)\n",
            "Requirement already satisfied: Flask>=0.10 in /usr/local/lib/python3.6/dist-packages (from flask_sqlalchemy) (1.1.2)\n",
            "Requirement already satisfied: SQLAlchemy>=0.8.0 in /usr/local/lib/python3.6/dist-packages (from flask_sqlalchemy) (1.3.18)\n",
            "Requirement already satisfied: itsdangerous>=0.24 in /usr/local/lib/python3.6/dist-packages (from Flask>=0.10->flask_sqlalchemy) (1.1.0)\n",
            "Requirement already satisfied: Jinja2>=2.10.1 in /usr/local/lib/python3.6/dist-packages (from Flask>=0.10->flask_sqlalchemy) (2.11.2)\n",
            "Requirement already satisfied: click>=5.1 in /usr/local/lib/python3.6/dist-packages (from Flask>=0.10->flask_sqlalchemy) (7.1.2)\n",
            "Requirement already satisfied: Werkzeug>=0.15 in /usr/local/lib/python3.6/dist-packages (from Flask>=0.10->flask_sqlalchemy) (1.0.1)\n",
            "Requirement already satisfied: MarkupSafe>=0.23 in /usr/local/lib/python3.6/dist-packages (from Jinja2>=2.10.1->Flask>=0.10->flask_sqlalchemy) (1.1.1)\n",
            "Requirement already satisfied: flask_ngrok in /usr/local/lib/python3.6/dist-packages (0.0.25)\n",
            "Requirement already satisfied: requests in /usr/local/lib/python3.6/dist-packages (from flask_ngrok) (2.23.0)\n",
            "Requirement already satisfied: Flask>=0.8 in /usr/local/lib/python3.6/dist-packages (from flask_ngrok) (1.1.2)\n",
            "Requirement already satisfied: urllib3!=1.25.0,!=1.25.1,<1.26,>=1.21.1 in /usr/local/lib/python3.6/dist-packages (from requests->flask_ngrok) (1.24.3)\n",
            "Requirement already satisfied: idna<3,>=2.5 in /usr/local/lib/python3.6/dist-packages (from requests->flask_ngrok) (2.10)\n",
            "Requirement already satisfied: chardet<4,>=3.0.2 in /usr/local/lib/python3.6/dist-packages (from requests->flask_ngrok) (3.0.4)\n",
            "Requirement already satisfied: certifi>=2017.4.17 in /usr/local/lib/python3.6/dist-packages (from requests->flask_ngrok) (2020.6.20)\n",
            "Requirement already satisfied: Jinja2>=2.10.1 in /usr/local/lib/python3.6/dist-packages (from Flask>=0.8->flask_ngrok) (2.11.2)\n",
            "Requirement already satisfied: Werkzeug>=0.15 in /usr/local/lib/python3.6/dist-packages (from Flask>=0.8->flask_ngrok) (1.0.1)\n",
            "Requirement already satisfied: itsdangerous>=0.24 in /usr/local/lib/python3.6/dist-packages (from Flask>=0.8->flask_ngrok) (1.1.0)\n",
            "Requirement already satisfied: click>=5.1 in /usr/local/lib/python3.6/dist-packages (from Flask>=0.8->flask_ngrok) (7.1.2)\n",
            "Requirement already satisfied: MarkupSafe>=0.23 in /usr/local/lib/python3.6/dist-packages (from Jinja2>=2.10.1->Flask>=0.8->flask_ngrok) (1.1.1)\n"
          ],
          "name": "stdout"
        }
      ]
    },
    {
      "cell_type": "code",
      "metadata": {
        "id": "tm8vv5UZIvUF",
        "colab_type": "code",
        "colab": {}
      },
      "source": [
        "file = open(\"app.py\",\"w\")\n",
        "file.write('''from flask import Flask\n",
        "from flask_sqlalchemy import SQLAlchemy\n",
        "\n",
        "app = Flask(__name__)\n",
        "app.config[\"SQLALCHEMY_DATABASE_URI\"]=\"sqlite:////content/db_test.db\"\n",
        "app.config[\"SQLALCHEMY_TRACK_MODIFICATIONS\"] = False\n",
        "db = SQLAlchemy(app)\n",
        "\n",
        "class User(db.Model):\n",
        "    id = db.Column(db.Integer, primary_key=True)\n",
        "    username = db.Column(db.String(80), unique=True, nullable=False)\n",
        "    email = db.Column(db.String(120), unique=True, nullable=False)\n",
        "\n",
        "    def __repr__(self):\n",
        "        return '<User %r>' % self.username\n",
        "\n",
        "app.run()\n",
        "#db.init_app(app)\n",
        "''')\n",
        "\n",
        "file.close()"
      ],
      "execution_count": 25,
      "outputs": []
    },
    {
      "cell_type": "code",
      "metadata": {
        "id": "oO1qUNJYPfq4",
        "colab_type": "code",
        "colab": {}
      },
      "source": [
        "rm db_test.db"
      ],
      "execution_count": 27,
      "outputs": []
    },
    {
      "cell_type": "code",
      "metadata": {
        "id": "lbkpg9_C8Kvp",
        "colab_type": "code",
        "colab": {}
      },
      "source": [
        "from app import db\n",
        "db.create_all()"
      ],
      "execution_count": 28,
      "outputs": []
    },
    {
      "cell_type": "code",
      "metadata": {
        "id": "bhAhPf1W8avj",
        "colab_type": "code",
        "colab": {
          "base_uri": "https://localhost:8080/",
          "height": 35
        },
        "outputId": "6b8b5e95-01e0-4477-dfe9-95787890bcbe"
      },
      "source": [
        "ls"
      ],
      "execution_count": null,
      "outputs": [
        {
          "output_type": "stream",
          "text": [
            "app.py  db_test.db  \u001b[0m\u001b[01;34m__pycache__\u001b[0m/  \u001b[01;34msample_data\u001b[0m/\n"
          ],
          "name": "stdout"
        }
      ]
    },
    {
      "cell_type": "code",
      "metadata": {
        "id": "_FqDvvUILdRS",
        "colab_type": "code",
        "colab": {}
      },
      "source": [
        "from app import User\n",
        "usuarioA = User(username=\"Sebastian\", email = \"ssanchez2@eafit.edu.co\")\n",
        "db.session.add(usuarioA)\n",
        "db.session.commit()"
      ],
      "execution_count": 29,
      "outputs": []
    }
  ]
}